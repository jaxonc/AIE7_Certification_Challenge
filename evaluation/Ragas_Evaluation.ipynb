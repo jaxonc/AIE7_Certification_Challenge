{
 "cells": [
  {
   "cell_type": "code",
   "execution_count": 2,
   "id": "5dcff882",
   "metadata": {},
   "outputs": [],
   "source": [
    "import os\n",
    "import getpass"
   ]
  },
  {
   "cell_type": "markdown",
   "id": "c35a7f50",
   "metadata": {},
   "source": [
    "# Get API keys"
   ]
  },
  {
   "cell_type": "code",
   "execution_count": 5,
   "id": "4e6e2556",
   "metadata": {},
   "outputs": [],
   "source": [
    "os.environ[\"OPENAI_API_KEY\"] = getpass.getpass(\"Enter your OpenAI API key: \")"
   ]
  },
  {
   "cell_type": "markdown",
   "id": "5ac92edd",
   "metadata": {},
   "source": [
    "# Load Data"
   ]
  },
  {
   "cell_type": "code",
   "execution_count": 7,
   "id": "79bd0689",
   "metadata": {},
   "outputs": [],
   "source": [
    "from langchain_community.document_loaders import DirectoryLoader\n",
    "from langchain_community.document_loaders import TextLoader\n",
    "\n",
    "\n",
    "path = \"./../data/\"\n",
    "loader = DirectoryLoader(path, glob=\"*.txt\", loader_cls=TextLoader)\n",
    "docs = loader.load()"
   ]
  },
  {
   "cell_type": "markdown",
   "id": "986d6d70",
   "metadata": {},
   "source": [
    "# Unrolled version of SDG for more flexibilty with testset distribution"
   ]
  },
  {
   "cell_type": "code",
   "execution_count": null,
   "id": "9a860341",
   "metadata": {},
   "outputs": [],
   "source": [
    "from ragas.llms import LangchainLLMWrapper\n",
    "from ragas.embeddings import LangchainEmbeddingsWrapper\n",
    "\n",
    "from langchain_openai import ChatOpenAI\n",
    "from langchain_openai import OpenAIEmbeddings\n",
    "generator_llm = LangchainLLMWrapper(ChatOpenAI(model=\"gpt-4.1-nano\"))\n",
    "generator_embeddings = LangchainEmbeddingsWrapper(OpenAIEmbeddings())"
   ]
  },
  {
   "cell_type": "code",
   "execution_count": 11,
   "id": "45f95bb2",
   "metadata": {},
   "outputs": [
    {
     "data": {
      "text/plain": [
       "KnowledgeGraph(nodes: 0, relationships: 0)"
      ]
     },
     "execution_count": 11,
     "metadata": {},
     "output_type": "execute_result"
    }
   ],
   "source": [
    "from ragas.testset.graph import KnowledgeGraph\n",
    "\n",
    "kg = KnowledgeGraph()\n",
    "kg"
   ]
  },
  {
   "cell_type": "code",
   "execution_count": 12,
   "id": "47ee846e",
   "metadata": {},
   "outputs": [
    {
     "data": {
      "text/plain": [
       "KnowledgeGraph(nodes: 15, relationships: 0)"
      ]
     },
     "execution_count": 12,
     "metadata": {},
     "output_type": "execute_result"
    }
   ],
   "source": [
    "from ragas.testset.graph import Node, NodeType\n",
    "\n",
    "### NOTICE: We're using a subset of the data for this example - this is to keep costs/time down.\n",
    "for doc in docs[:15]:\n",
    "    kg.nodes.append(\n",
    "        Node(\n",
    "            type=NodeType.DOCUMENT,\n",
    "            properties={\"page_content\": doc.page_content, \"document_metadata\": doc.metadata}\n",
    "        )\n",
    "    )\n",
    "kg"
   ]
  },
  {
   "cell_type": "code",
   "execution_count": null,
   "id": "cd3b7070",
   "metadata": {},
   "outputs": [
    {
     "data": {
      "application/vnd.jupyter.widget-view+json": {
       "model_id": "a042b6d522ba46cda71f2fa5422d5174",
       "version_major": 2,
       "version_minor": 0
      },
      "text/plain": [
       "Applying HeadlinesExtractor:   0%|          | 0/15 [00:00<?, ?it/s]"
      ]
     },
     "metadata": {},
     "output_type": "display_data"
    },
    {
     "data": {
      "application/vnd.jupyter.widget-view+json": {
       "model_id": "ae93da5e9c434ec6a2ba204b679c6376",
       "version_major": 2,
       "version_minor": 0
      },
      "text/plain": [
       "Applying HeadlineSplitter:   0%|          | 0/15 [00:00<?, ?it/s]"
      ]
     },
     "metadata": {},
     "output_type": "display_data"
    },
    {
     "data": {
      "application/vnd.jupyter.widget-view+json": {
       "model_id": "0da73153a6c0428f8b96c6bc9e46f215",
       "version_major": 2,
       "version_minor": 0
      },
      "text/plain": [
       "Applying SummaryExtractor:   0%|          | 0/27 [00:00<?, ?it/s]"
      ]
     },
     "metadata": {},
     "output_type": "display_data"
    },
    {
     "name": "stderr",
     "output_type": "stream",
     "text": [
      "Property 'summary' already exists in node 'a4f675'. Skipping!\n",
      "Property 'summary' already exists in node 'dc0de7'. Skipping!\n",
      "Property 'summary' already exists in node '45a815'. Skipping!\n",
      "Property 'summary' already exists in node '77ee46'. Skipping!\n",
      "Property 'summary' already exists in node '7c7970'. Skipping!\n",
      "Property 'summary' already exists in node 'ffa2d6'. Skipping!\n",
      "Property 'summary' already exists in node '1fb052'. Skipping!\n",
      "Property 'summary' already exists in node 'ed1fc0'. Skipping!\n",
      "Property 'summary' already exists in node '430063'. Skipping!\n",
      "Property 'summary' already exists in node '727179'. Skipping!\n",
      "Property 'summary' already exists in node 'aaef5c'. Skipping!\n",
      "Property 'summary' already exists in node '2e1bca'. Skipping!\n"
     ]
    },
    {
     "data": {
      "application/vnd.jupyter.widget-view+json": {
       "model_id": "c8ee56bd6d7a43bc8b9f2188a270c69e",
       "version_major": 2,
       "version_minor": 0
      },
      "text/plain": [
       "Applying CustomNodeFilter:   0%|          | 0/6 [00:00<?, ?it/s]"
      ]
     },
     "metadata": {},
     "output_type": "display_data"
    },
    {
     "data": {
      "application/vnd.jupyter.widget-view+json": {
       "model_id": "4f6e07ce285848fc94f4649833f9bfdc",
       "version_major": 2,
       "version_minor": 0
      },
      "text/plain": [
       "Applying [EmbeddingExtractor, ThemesExtractor, NERExtractor]:   0%|          | 0/39 [00:00<?, ?it/s]"
      ]
     },
     "metadata": {},
     "output_type": "display_data"
    },
    {
     "name": "stderr",
     "output_type": "stream",
     "text": [
      "Property 'summary_embedding' already exists in node '77ee46'. Skipping!\n",
      "Property 'summary_embedding' already exists in node '430063'. Skipping!\n",
      "Property 'summary_embedding' already exists in node '45a815'. Skipping!\n",
      "Property 'summary_embedding' already exists in node '727179'. Skipping!\n",
      "Property 'summary_embedding' already exists in node '7c7970'. Skipping!\n",
      "Property 'summary_embedding' already exists in node 'a4f675'. Skipping!\n",
      "Property 'summary_embedding' already exists in node 'aaef5c'. Skipping!\n",
      "Property 'summary_embedding' already exists in node 'ffa2d6'. Skipping!\n",
      "Property 'summary_embedding' already exists in node 'dc0de7'. Skipping!\n",
      "Property 'summary_embedding' already exists in node 'ed1fc0'. Skipping!\n",
      "Property 'summary_embedding' already exists in node '2e1bca'. Skipping!\n",
      "Property 'summary_embedding' already exists in node '1fb052'. Skipping!\n"
     ]
    },
    {
     "data": {
      "application/vnd.jupyter.widget-view+json": {
       "model_id": "a336cd06632749c7bc5af7c612c52320",
       "version_major": 2,
       "version_minor": 0
      },
      "text/plain": [
       "Applying [CosineSimilarityBuilder, OverlapScoreBuilder]:   0%|          | 0/2 [00:00<?, ?it/s]"
      ]
     },
     "metadata": {},
     "output_type": "display_data"
    },
    {
     "data": {
      "text/plain": [
       "KnowledgeGraph(nodes: 33, relationships: 360)"
      ]
     },
     "execution_count": 13,
     "metadata": {},
     "output_type": "execute_result"
    }
   ],
   "source": [
    "from ragas.testset.transforms import default_transforms, apply_transforms\n",
    "\n",
    "transformer_llm = generator_llm\n",
    "embedding_model = generator_embeddings\n",
    "\n",
    "default_transforms = default_transforms(documents=docs, llm=transformer_llm, embedding_model=embedding_model)\n",
    "apply_transforms(kg, default_transforms)\n",
    "kg"
   ]
  },
  {
   "cell_type": "code",
   "execution_count": 15,
   "id": "2d5f67b0",
   "metadata": {},
   "outputs": [
    {
     "data": {
      "text/plain": [
       "KnowledgeGraph(nodes: 33, relationships: 360)"
      ]
     },
     "execution_count": 15,
     "metadata": {},
     "output_type": "execute_result"
    }
   ],
   "source": [
    "kg.save(\"product_data_kg.json\")\n",
    "product_data_kg = KnowledgeGraph.load(\"product_data_kg.json\")\n",
    "product_data_kg"
   ]
  },
  {
   "cell_type": "code",
   "execution_count": 16,
   "id": "9f97f1fc",
   "metadata": {},
   "outputs": [],
   "source": [
    "from ragas.testset import TestsetGenerator\n",
    "\n",
    "generator = TestsetGenerator(llm=generator_llm, embedding_model=embedding_model, knowledge_graph=product_data_kg)"
   ]
  },
  {
   "cell_type": "code",
   "execution_count": null,
   "id": "7f875293",
   "metadata": {},
   "outputs": [],
   "source": [
    "from ragas.testset.synthesizers import default_query_distribution, SingleHopSpecificQuerySynthesizer, MultiHopAbstractQuerySynthesizer, MultiHopSpecificQuerySynthesizer\n",
    "\n",
    "query_distribution = [\n",
    "        (SingleHopSpecificQuerySynthesizer(llm=generator_llm), 1) #not enough clusters for multi-hop\n",
    "]"
   ]
  },
  {
   "cell_type": "code",
   "execution_count": 21,
   "id": "d5b4d018",
   "metadata": {},
   "outputs": [
    {
     "data": {
      "application/vnd.jupyter.widget-view+json": {
       "model_id": "60ff817d3028424d8b14e60284215555",
       "version_major": 2,
       "version_minor": 0
      },
      "text/plain": [
       "Generating Scenarios:   0%|          | 0/1 [00:00<?, ?it/s]"
      ]
     },
     "metadata": {},
     "output_type": "display_data"
    },
    {
     "data": {
      "application/vnd.jupyter.widget-view+json": {
       "model_id": "507b4e2a9f5b4f44a6b43d41c637c416",
       "version_major": 2,
       "version_minor": 0
      },
      "text/plain": [
       "Generating Samples:   0%|          | 0/25 [00:00<?, ?it/s]"
      ]
     },
     "metadata": {},
     "output_type": "display_data"
    },
    {
     "data": {
      "text/html": [
       "<div>\n",
       "<style scoped>\n",
       "    .dataframe tbody tr th:only-of-type {\n",
       "        vertical-align: middle;\n",
       "    }\n",
       "\n",
       "    .dataframe tbody tr th {\n",
       "        vertical-align: top;\n",
       "    }\n",
       "\n",
       "    .dataframe thead th {\n",
       "        text-align: right;\n",
       "    }\n",
       "</style>\n",
       "<table border=\"1\" class=\"dataframe\">\n",
       "  <thead>\n",
       "    <tr style=\"text-align: right;\">\n",
       "      <th></th>\n",
       "      <th>user_input</th>\n",
       "      <th>reference_contexts</th>\n",
       "      <th>reference</th>\n",
       "      <th>synthesizer_name</th>\n",
       "    </tr>\n",
       "  </thead>\n",
       "  <tbody>\n",
       "    <tr>\n",
       "      <th>0</th>\n",
       "      <td>Is this product available in France?</td>\n",
       "      <td>[Product Information Summary UPC: 028400070560...</td>\n",
       "      <td>Yes, the product is available in France, as in...</td>\n",
       "      <td>single_hop_specifc_query_synthesizer</td>\n",
       "    </tr>\n",
       "    <tr>\n",
       "      <th>1</th>\n",
       "      <td>Frito Lay what is?</td>\n",
       "      <td>[Product Information Summary UPC: 028400070560...</td>\n",
       "      <td>Frito Lay is the manufacturer and distributor ...</td>\n",
       "      <td>single_hop_specifc_query_synthesizer</td>\n",
       "    </tr>\n",
       "    <tr>\n",
       "      <th>2</th>\n",
       "      <td>Is the Nacho Cheese Flavored Tortilla Chips pr...</td>\n",
       "      <td>[Product Information Summary UPC: 028400070560...</td>\n",
       "      <td>Yes, the Nacho Cheese Flavored Tortilla Chips ...</td>\n",
       "      <td>single_hop_specifc_query_synthesizer</td>\n",
       "    </tr>\n",
       "    <tr>\n",
       "      <th>3</th>\n",
       "      <td>Is this product available in France?</td>\n",
       "      <td>[Product Information Summary UPC: 028400070560...</td>\n",
       "      <td>Yes, the product is available in France, as in...</td>\n",
       "      <td>single_hop_specifc_query_synthesizer</td>\n",
       "    </tr>\n",
       "    <tr>\n",
       "      <th>4</th>\n",
       "      <td>In which countries is the Nacho Cheese Flavore...</td>\n",
       "      <td>[Product Information Summary UPC: 028400070560...</td>\n",
       "      <td>The Nacho Cheese Flavored Tortilla Chips produ...</td>\n",
       "      <td>single_hop_specifc_query_synthesizer</td>\n",
       "    </tr>\n",
       "    <tr>\n",
       "      <th>5</th>\n",
       "      <td>What is 028400070560?</td>\n",
       "      <td>[CONSUMER GUIDANCE This product summary is int...</td>\n",
       "      <td>This product reference 028400070560 is from th...</td>\n",
       "      <td>single_hop_specifc_query_synthesizer</td>\n",
       "    </tr>\n",
       "    <tr>\n",
       "      <th>6</th>\n",
       "      <td>How can I find detailed nutritional informatio...</td>\n",
       "      <td>[CONSUMER GUIDANCE This product summary is int...</td>\n",
       "      <td>For more detailed information about this produ...</td>\n",
       "      <td>single_hop_specifc_query_synthesizer</td>\n",
       "    </tr>\n",
       "    <tr>\n",
       "      <th>7</th>\n",
       "      <td>What is OpenFoodFacts and how can it help me m...</td>\n",
       "      <td>[CONSUMER GUIDANCE This product summary is int...</td>\n",
       "      <td>OpenFoodFacts is a collaborative database that...</td>\n",
       "      <td>single_hop_specifc_query_synthesizer</td>\n",
       "    </tr>\n",
       "    <tr>\n",
       "      <th>8</th>\n",
       "      <td>What should I do to get the latest info about ...</td>\n",
       "      <td>[CONSUMER GUIDANCE This product summary is int...</td>\n",
       "      <td>For the most current product information, incl...</td>\n",
       "      <td>single_hop_specifc_query_synthesizer</td>\n",
       "    </tr>\n",
       "    <tr>\n",
       "      <th>9</th>\n",
       "      <td>What is OpenFoodFacts?</td>\n",
       "      <td>[CONSUMER GUIDANCE This product summary is int...</td>\n",
       "      <td>OpenFoodFacts is a collaborative database that...</td>\n",
       "      <td>single_hop_specifc_query_synthesizer</td>\n",
       "    </tr>\n",
       "    <tr>\n",
       "      <th>10</th>\n",
       "      <td>Is Kellogg Company US associated with Pringles...</td>\n",
       "      <td>[Product Information Summary UPC: 038000138607...</td>\n",
       "      <td>Yes, Pringles Salt &amp; Vinegar is a food product...</td>\n",
       "      <td>single_hop_specifc_query_synthesizer</td>\n",
       "    </tr>\n",
       "    <tr>\n",
       "      <th>11</th>\n",
       "      <td>What is the role of Kellogg Company US in rela...</td>\n",
       "      <td>[Product Information Summary UPC: 038000138607...</td>\n",
       "      <td>Pringles Salt &amp; Vinegar is a food product manu...</td>\n",
       "      <td>single_hop_specifc_query_synthesizer</td>\n",
       "    </tr>\n",
       "    <tr>\n",
       "      <th>12</th>\n",
       "      <td>Bolivia has this product in it?</td>\n",
       "      <td>[Product Information Summary UPC: 038000138607...</td>\n",
       "      <td>Yes, the product is available in Bolivia, as i...</td>\n",
       "      <td>single_hop_specifc_query_synthesizer</td>\n",
       "    </tr>\n",
       "    <tr>\n",
       "      <th>13</th>\n",
       "      <td>What is Kellogg Company US known for in relati...</td>\n",
       "      <td>[Product Information Summary UPC: 038000138607...</td>\n",
       "      <td>Kellogg Company US is the manufacturer and dis...</td>\n",
       "      <td>single_hop_specifc_query_synthesizer</td>\n",
       "    </tr>\n",
       "    <tr>\n",
       "      <th>14</th>\n",
       "      <td>Is Israel one of the countries where the produ...</td>\n",
       "      <td>[Product Information Summary UPC: 038000138607...</td>\n",
       "      <td>Yes, the product is available in Israel, as in...</td>\n",
       "      <td>single_hop_specifc_query_synthesizer</td>\n",
       "    </tr>\n",
       "    <tr>\n",
       "      <th>15</th>\n",
       "      <td>What is OpenFoodFacts and how can I use it to ...</td>\n",
       "      <td>[CONSUMER GUIDANCE This product summary is int...</td>\n",
       "      <td>OpenFoodFacts is a collaborative database that...</td>\n",
       "      <td>single_hop_specifc_query_synthesizer</td>\n",
       "    </tr>\n",
       "    <tr>\n",
       "      <th>16</th>\n",
       "      <td>Could you explain what OpenFoodFacts is and ho...</td>\n",
       "      <td>[CONSUMER GUIDANCE This product summary is int...</td>\n",
       "      <td>OpenFoodFacts is a collaborative database that...</td>\n",
       "      <td>single_hop_specifc_query_synthesizer</td>\n",
       "    </tr>\n",
       "    <tr>\n",
       "      <th>17</th>\n",
       "      <td>Can you tell me about the product with the cod...</td>\n",
       "      <td>[CONSUMER GUIDANCE This product summary is int...</td>\n",
       "      <td>This product summary is intended to help consu...</td>\n",
       "      <td>single_hop_specifc_query_synthesizer</td>\n",
       "    </tr>\n",
       "    <tr>\n",
       "      <th>18</th>\n",
       "      <td>What is 038000138607?</td>\n",
       "      <td>[CONSUMER GUIDANCE This product summary is int...</td>\n",
       "      <td>This product reference 038000138607 is from th...</td>\n",
       "      <td>single_hop_specifc_query_synthesizer</td>\n",
       "    </tr>\n",
       "    <tr>\n",
       "      <th>19</th>\n",
       "      <td>What is the product with the code 038000138607?</td>\n",
       "      <td>[CONSUMER GUIDANCE This product summary is int...</td>\n",
       "      <td>The product with the code 038000138607 is refe...</td>\n",
       "      <td>single_hop_specifc_query_synthesizer</td>\n",
       "    </tr>\n",
       "    <tr>\n",
       "      <th>20</th>\n",
       "      <td>Is Ben &amp; Jerry's Homemade Inc. ice cream bad f...</td>\n",
       "      <td>[Product Information Summary UPC: 076840101344...</td>\n",
       "      <td>The product is classified under the categories...</td>\n",
       "      <td>single_hop_specifc_query_synthesizer</td>\n",
       "    </tr>\n",
       "    <tr>\n",
       "      <th>21</th>\n",
       "      <td>In United States what is the health info about...</td>\n",
       "      <td>[Product Information Summary UPC: 076840101344...</td>\n",
       "      <td>The product Ice Cream, Everything But The... i...</td>\n",
       "      <td>single_hop_specifc_query_synthesizer</td>\n",
       "    </tr>\n",
       "    <tr>\n",
       "      <th>22</th>\n",
       "      <td>Is the product available in the United States?</td>\n",
       "      <td>[Product Information Summary UPC: 076840101344...</td>\n",
       "      <td>Yes, the product is available for purchase in ...</td>\n",
       "      <td>single_hop_specifc_query_synthesizer</td>\n",
       "    </tr>\n",
       "    <tr>\n",
       "      <th>23</th>\n",
       "      <td>What is the name of the company that manufactu...</td>\n",
       "      <td>[Product Information Summary UPC: 076840101344...</td>\n",
       "      <td>Ben &amp; Jerry's Homemade Inc. is the manufacture...</td>\n",
       "      <td>single_hop_specifc_query_synthesizer</td>\n",
       "    </tr>\n",
       "    <tr>\n",
       "      <th>24</th>\n",
       "      <td>Is Ben &amp; Jerry's Homemade Inc. the manufacture...</td>\n",
       "      <td>[Product Information Summary UPC: 076840101344...</td>\n",
       "      <td>Yes, Ben &amp; Jerry's Homemade Inc. is the manufa...</td>\n",
       "      <td>single_hop_specifc_query_synthesizer</td>\n",
       "    </tr>\n",
       "  </tbody>\n",
       "</table>\n",
       "</div>"
      ],
      "text/plain": [
       "                                           user_input  \\\n",
       "0                Is this product available in France?   \n",
       "1                                  Frito Lay what is?   \n",
       "2   Is the Nacho Cheese Flavored Tortilla Chips pr...   \n",
       "3                Is this product available in France?   \n",
       "4   In which countries is the Nacho Cheese Flavore...   \n",
       "5                               What is 028400070560?   \n",
       "6   How can I find detailed nutritional informatio...   \n",
       "7   What is OpenFoodFacts and how can it help me m...   \n",
       "8   What should I do to get the latest info about ...   \n",
       "9                              What is OpenFoodFacts?   \n",
       "10  Is Kellogg Company US associated with Pringles...   \n",
       "11  What is the role of Kellogg Company US in rela...   \n",
       "12                    Bolivia has this product in it?   \n",
       "13  What is Kellogg Company US known for in relati...   \n",
       "14  Is Israel one of the countries where the produ...   \n",
       "15  What is OpenFoodFacts and how can I use it to ...   \n",
       "16  Could you explain what OpenFoodFacts is and ho...   \n",
       "17  Can you tell me about the product with the cod...   \n",
       "18                              What is 038000138607?   \n",
       "19    What is the product with the code 038000138607?   \n",
       "20  Is Ben & Jerry's Homemade Inc. ice cream bad f...   \n",
       "21  In United States what is the health info about...   \n",
       "22     Is the product available in the United States?   \n",
       "23  What is the name of the company that manufactu...   \n",
       "24  Is Ben & Jerry's Homemade Inc. the manufacture...   \n",
       "\n",
       "                                   reference_contexts  \\\n",
       "0   [Product Information Summary UPC: 028400070560...   \n",
       "1   [Product Information Summary UPC: 028400070560...   \n",
       "2   [Product Information Summary UPC: 028400070560...   \n",
       "3   [Product Information Summary UPC: 028400070560...   \n",
       "4   [Product Information Summary UPC: 028400070560...   \n",
       "5   [CONSUMER GUIDANCE This product summary is int...   \n",
       "6   [CONSUMER GUIDANCE This product summary is int...   \n",
       "7   [CONSUMER GUIDANCE This product summary is int...   \n",
       "8   [CONSUMER GUIDANCE This product summary is int...   \n",
       "9   [CONSUMER GUIDANCE This product summary is int...   \n",
       "10  [Product Information Summary UPC: 038000138607...   \n",
       "11  [Product Information Summary UPC: 038000138607...   \n",
       "12  [Product Information Summary UPC: 038000138607...   \n",
       "13  [Product Information Summary UPC: 038000138607...   \n",
       "14  [Product Information Summary UPC: 038000138607...   \n",
       "15  [CONSUMER GUIDANCE This product summary is int...   \n",
       "16  [CONSUMER GUIDANCE This product summary is int...   \n",
       "17  [CONSUMER GUIDANCE This product summary is int...   \n",
       "18  [CONSUMER GUIDANCE This product summary is int...   \n",
       "19  [CONSUMER GUIDANCE This product summary is int...   \n",
       "20  [Product Information Summary UPC: 076840101344...   \n",
       "21  [Product Information Summary UPC: 076840101344...   \n",
       "22  [Product Information Summary UPC: 076840101344...   \n",
       "23  [Product Information Summary UPC: 076840101344...   \n",
       "24  [Product Information Summary UPC: 076840101344...   \n",
       "\n",
       "                                            reference  \\\n",
       "0   Yes, the product is available in France, as in...   \n",
       "1   Frito Lay is the manufacturer and distributor ...   \n",
       "2   Yes, the Nacho Cheese Flavored Tortilla Chips ...   \n",
       "3   Yes, the product is available in France, as in...   \n",
       "4   The Nacho Cheese Flavored Tortilla Chips produ...   \n",
       "5   This product reference 028400070560 is from th...   \n",
       "6   For more detailed information about this produ...   \n",
       "7   OpenFoodFacts is a collaborative database that...   \n",
       "8   For the most current product information, incl...   \n",
       "9   OpenFoodFacts is a collaborative database that...   \n",
       "10  Yes, Pringles Salt & Vinegar is a food product...   \n",
       "11  Pringles Salt & Vinegar is a food product manu...   \n",
       "12  Yes, the product is available in Bolivia, as i...   \n",
       "13  Kellogg Company US is the manufacturer and dis...   \n",
       "14  Yes, the product is available in Israel, as in...   \n",
       "15  OpenFoodFacts is a collaborative database that...   \n",
       "16  OpenFoodFacts is a collaborative database that...   \n",
       "17  This product summary is intended to help consu...   \n",
       "18  This product reference 038000138607 is from th...   \n",
       "19  The product with the code 038000138607 is refe...   \n",
       "20  The product is classified under the categories...   \n",
       "21  The product Ice Cream, Everything But The... i...   \n",
       "22  Yes, the product is available for purchase in ...   \n",
       "23  Ben & Jerry's Homemade Inc. is the manufacture...   \n",
       "24  Yes, Ben & Jerry's Homemade Inc. is the manufa...   \n",
       "\n",
       "                        synthesizer_name  \n",
       "0   single_hop_specifc_query_synthesizer  \n",
       "1   single_hop_specifc_query_synthesizer  \n",
       "2   single_hop_specifc_query_synthesizer  \n",
       "3   single_hop_specifc_query_synthesizer  \n",
       "4   single_hop_specifc_query_synthesizer  \n",
       "5   single_hop_specifc_query_synthesizer  \n",
       "6   single_hop_specifc_query_synthesizer  \n",
       "7   single_hop_specifc_query_synthesizer  \n",
       "8   single_hop_specifc_query_synthesizer  \n",
       "9   single_hop_specifc_query_synthesizer  \n",
       "10  single_hop_specifc_query_synthesizer  \n",
       "11  single_hop_specifc_query_synthesizer  \n",
       "12  single_hop_specifc_query_synthesizer  \n",
       "13  single_hop_specifc_query_synthesizer  \n",
       "14  single_hop_specifc_query_synthesizer  \n",
       "15  single_hop_specifc_query_synthesizer  \n",
       "16  single_hop_specifc_query_synthesizer  \n",
       "17  single_hop_specifc_query_synthesizer  \n",
       "18  single_hop_specifc_query_synthesizer  \n",
       "19  single_hop_specifc_query_synthesizer  \n",
       "20  single_hop_specifc_query_synthesizer  \n",
       "21  single_hop_specifc_query_synthesizer  \n",
       "22  single_hop_specifc_query_synthesizer  \n",
       "23  single_hop_specifc_query_synthesizer  \n",
       "24  single_hop_specifc_query_synthesizer  "
      ]
     },
     "execution_count": 21,
     "metadata": {},
     "output_type": "execute_result"
    }
   ],
   "source": [
    "testset = generator.generate(testset_size=25, query_distribution=query_distribution)\n",
    "testset.to_pandas()"
   ]
  },
  {
   "cell_type": "markdown",
   "id": "2bebd605",
   "metadata": {},
   "source": [
    "# Build Naive Graph"
   ]
  },
  {
   "cell_type": "code",
   "execution_count": null,
   "id": "cc1f152d",
   "metadata": {},
   "outputs": [],
   "source": [
    "import sys\n",
    "\n",
    "# Add the src directory to Python path\n",
    "src_path = os.path.abspath(os.path.join(os.getcwd(), '..', 'src'))\n",
    "sys.path.insert(0, src_path)\n",
    "\n",
    "# Now you can import from utils\n",
    "from utils.rag_graph import build_rag_graph\n",
    "\n",
    "graph = build_rag_graph()"
   ]
  },
  {
   "cell_type": "code",
   "execution_count": 26,
   "id": "c204e524",
   "metadata": {},
   "outputs": [],
   "source": [
    "graph = build_rag_graph()"
   ]
  },
  {
   "cell_type": "markdown",
   "id": "4a3573e0",
   "metadata": {},
   "source": [
    "# Evaluate Naive Graph"
   ]
  },
  {
   "cell_type": "code",
   "execution_count": 27,
   "id": "1c73c4f7",
   "metadata": {},
   "outputs": [],
   "source": [
    "for test_row in testset:\n",
    "  response = graph.invoke({\"question\" : test_row.eval_sample.user_input})\n",
    "  test_row.eval_sample.response = response[\"response\"]\n",
    "  test_row.eval_sample.retrieved_contexts = [context.page_content for context in response[\"context\"]]"
   ]
  },
  {
   "cell_type": "code",
   "execution_count": 29,
   "id": "19a15661",
   "metadata": {},
   "outputs": [],
   "source": [
    "from ragas import EvaluationDataset\n",
    "\n",
    "evaluation_dataset = EvaluationDataset.from_pandas(testset.to_pandas())"
   ]
  },
  {
   "cell_type": "code",
   "execution_count": null,
   "id": "95e23781",
   "metadata": {},
   "outputs": [],
   "source": [
    "from ragas.llms import LangchainLLMWrapper\n",
    "\n",
    "evaluator_llm = LangchainLLMWrapper(ChatOpenAI(model=\"gpt-4.1-mini\"))"
   ]
  },
  {
   "cell_type": "code",
   "execution_count": 41,
   "id": "fde912bd",
   "metadata": {},
   "outputs": [
    {
     "data": {
      "application/vnd.jupyter.widget-view+json": {
       "model_id": "d9ace1f9e5234928aaa6f4a0db363f94",
       "version_major": 2,
       "version_minor": 0
      },
      "text/plain": [
       "Evaluating:   0%|          | 0/150 [00:00<?, ?it/s]"
      ]
     },
     "metadata": {},
     "output_type": "display_data"
    }
   ],
   "source": [
    "from ragas.metrics import LLMContextRecall, Faithfulness, FactualCorrectness, ResponseRelevancy, ContextEntityRecall, NoiseSensitivity\n",
    "from ragas import evaluate, RunConfig\n",
    "\n",
    "custom_run_config = RunConfig(timeout=360)\n",
    "\n",
    "naive_result = evaluate(\n",
    "    dataset=evaluation_dataset,\n",
    "    metrics=[LLMContextRecall(), Faithfulness(), FactualCorrectness(), ResponseRelevancy(), ContextEntityRecall(), NoiseSensitivity()],\n",
    "    llm=evaluator_llm,\n",
    "    run_config=custom_run_config\n",
    ")"
   ]
  },
  {
   "cell_type": "code",
   "execution_count": 42,
   "id": "c0845e8f",
   "metadata": {},
   "outputs": [
    {
     "data": {
      "text/plain": [
       "{'context_recall': 0.7467, 'faithfulness': 0.9104, 'factual_correctness': 0.5212, 'answer_relevancy': 0.6594, 'context_entity_recall': 0.5806, 'noise_sensitivity_relevant': 0.1942}"
      ]
     },
     "execution_count": 42,
     "metadata": {},
     "output_type": "execute_result"
    }
   ],
   "source": [
    "naive_result"
   ]
  },
  {
   "cell_type": "markdown",
   "id": "b26f3270",
   "metadata": {},
   "source": [
    "# Build Advanced Graph"
   ]
  },
  {
   "cell_type": "code",
   "execution_count": 34,
   "id": "a400ac1f",
   "metadata": {},
   "outputs": [],
   "source": [
    "from utils.advanced_rag_graph import build_rag_graph\n",
    "\n",
    "advancedgraph = build_rag_graph()"
   ]
  },
  {
   "cell_type": "markdown",
   "id": "0ff6260b",
   "metadata": {},
   "source": [
    "# Evaluate Advanced Graph"
   ]
  },
  {
   "cell_type": "code",
   "execution_count": 36,
   "id": "fed3180e",
   "metadata": {},
   "outputs": [],
   "source": [
    "import copy\n",
    "\n",
    "advanced_graph_testset = copy.deepcopy(testset)"
   ]
  },
  {
   "cell_type": "code",
   "execution_count": 37,
   "id": "56112109",
   "metadata": {},
   "outputs": [],
   "source": [
    "for test_row in advanced_graph_testset:\n",
    "  response = advancedgraph.invoke({\"question\" : test_row.eval_sample.user_input})\n",
    "  test_row.eval_sample.response = response[\"response\"]\n",
    "  test_row.eval_sample.retrieved_contexts = [context.page_content for context in response[\"context\"]]"
   ]
  },
  {
   "cell_type": "code",
   "execution_count": 38,
   "id": "c824fa0f",
   "metadata": {},
   "outputs": [],
   "source": [
    "\n",
    "advanced_evaluation_dataset = EvaluationDataset.from_pandas(advanced_graph_testset.to_pandas())"
   ]
  },
  {
   "cell_type": "code",
   "execution_count": 39,
   "id": "5349235b",
   "metadata": {},
   "outputs": [
    {
     "data": {
      "application/vnd.jupyter.widget-view+json": {
       "model_id": "d64ae3cf63874db899c191c81e4d2e15",
       "version_major": 2,
       "version_minor": 0
      },
      "text/plain": [
       "Evaluating:   0%|          | 0/150 [00:00<?, ?it/s]"
      ]
     },
     "metadata": {},
     "output_type": "display_data"
    },
    {
     "name": "stderr",
     "output_type": "stream",
     "text": [
      "Exception raised in Job[131]: TimeoutError()\n"
     ]
    }
   ],
   "source": [
    "result = evaluate(\n",
    "    dataset=advanced_evaluation_dataset,\n",
    "    metrics=[LLMContextRecall(), Faithfulness(), FactualCorrectness(), ResponseRelevancy(), ContextEntityRecall(), NoiseSensitivity()],\n",
    "    llm=evaluator_llm,\n",
    "    run_config=custom_run_config\n",
    ")"
   ]
  },
  {
   "cell_type": "code",
   "execution_count": 40,
   "id": "69278850",
   "metadata": {},
   "outputs": [
    {
     "data": {
      "text/plain": [
       "{'context_recall': 0.9160, 'faithfulness': 0.9374, 'factual_correctness': 0.4656, 'answer_relevancy': 0.8017, 'context_entity_recall': 0.4537, 'noise_sensitivity_relevant': 0.3176}"
      ]
     },
     "execution_count": 40,
     "metadata": {},
     "output_type": "execute_result"
    }
   ],
   "source": [
    "result"
   ]
  },
  {
   "cell_type": "markdown",
   "id": "85adea06",
   "metadata": {},
   "source": [
    "# Rag Graph Comparison"
   ]
  },
  {
   "cell_type": "code",
   "execution_count": 44,
   "id": "288498f3",
   "metadata": {},
   "outputs": [],
   "source": [
    "naive_result_dict = {'context_recall': 0.7467, 'faithfulness': 0.9104, 'factual_correctness': 0.5212, 'answer_relevancy': 0.6594, 'context_entity_recall': 0.5806, 'noise_sensitivity_relevant': 0.1942}\n",
    "advanced_result_dict = {'context_recall': 0.9160, 'faithfulness': 0.9374, 'factual_correctness': 0.4656, 'answer_relevancy': 0.8017, 'context_entity_recall': 0.4537, 'noise_sensitivity_relevant': 0.3176}"
   ]
  },
  {
   "cell_type": "code",
   "execution_count": 48,
   "id": "3b9103e9",
   "metadata": {},
   "outputs": [
    {
     "data": {
      "text/html": [
       "<div>\n",
       "<style scoped>\n",
       "    .dataframe tbody tr th:only-of-type {\n",
       "        vertical-align: middle;\n",
       "    }\n",
       "\n",
       "    .dataframe tbody tr th {\n",
       "        vertical-align: top;\n",
       "    }\n",
       "\n",
       "    .dataframe thead th {\n",
       "        text-align: right;\n",
       "    }\n",
       "</style>\n",
       "<table border=\"1\" class=\"dataframe\">\n",
       "  <thead>\n",
       "    <tr style=\"text-align: right;\">\n",
       "      <th></th>\n",
       "      <th>context_recall</th>\n",
       "      <th>faithfulness</th>\n",
       "      <th>factual_correctness</th>\n",
       "      <th>answer_relevancy</th>\n",
       "      <th>context_entity_recall</th>\n",
       "      <th>noise_sensitivity_relevant</th>\n",
       "    </tr>\n",
       "  </thead>\n",
       "  <tbody>\n",
       "    <tr>\n",
       "      <th>Naive</th>\n",
       "      <td>0.7467</td>\n",
       "      <td>0.9104</td>\n",
       "      <td>0.5212</td>\n",
       "      <td>0.6594</td>\n",
       "      <td>0.5806</td>\n",
       "      <td>0.1942</td>\n",
       "    </tr>\n",
       "    <tr>\n",
       "      <th>Advanced</th>\n",
       "      <td>0.9160</td>\n",
       "      <td>0.9374</td>\n",
       "      <td>0.4656</td>\n",
       "      <td>0.8017</td>\n",
       "      <td>0.4537</td>\n",
       "      <td>0.3176</td>\n",
       "    </tr>\n",
       "  </tbody>\n",
       "</table>\n",
       "</div>"
      ],
      "text/plain": [
       "          context_recall  faithfulness  factual_correctness  answer_relevancy  \\\n",
       "Naive             0.7467        0.9104               0.5212            0.6594   \n",
       "Advanced          0.9160        0.9374               0.4656            0.8017   \n",
       "\n",
       "          context_entity_recall  noise_sensitivity_relevant  \n",
       "Naive                    0.5806                      0.1942  \n",
       "Advanced                 0.4537                      0.3176  "
      ]
     },
     "execution_count": 48,
     "metadata": {},
     "output_type": "execute_result"
    }
   ],
   "source": [
    "import pandas as pd\n",
    "\n",
    "comparison = pd.DataFrame([naive_result_dict, advanced_result_dict], index=[\"Naive\", \"Advanced\"])\n",
    "comparison\n"
   ]
  }
 ],
 "metadata": {
  "kernelspec": {
   "display_name": ".venv",
   "language": "python",
   "name": "python3"
  },
  "language_info": {
   "codemirror_mode": {
    "name": "ipython",
    "version": 3
   },
   "file_extension": ".py",
   "mimetype": "text/x-python",
   "name": "python",
   "nbconvert_exporter": "python",
   "pygments_lexer": "ipython3",
   "version": "3.13.5"
  }
 },
 "nbformat": 4,
 "nbformat_minor": 5
}
