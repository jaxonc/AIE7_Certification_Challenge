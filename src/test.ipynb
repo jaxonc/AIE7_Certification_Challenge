{
 "cells": [
  {
   "cell_type": "code",
   "execution_count": 1,
   "id": "5dcff882",
   "metadata": {},
   "outputs": [],
   "source": [
    "import os\n",
    "import getpass\n",
    "from langchain_core.messages import HumanMessage,SystemMessage"
   ]
  },
  {
   "cell_type": "code",
   "execution_count": 2,
   "id": "07f96907",
   "metadata": {},
   "outputs": [],
   "source": [
    "os.environ[\"ANTHROPIC_API_KEY\"] = getpass.getpass(\"Enter your Anthropic API key: \")"
   ]
  },
  {
   "cell_type": "code",
   "execution_count": 3,
   "id": "bc2ac341",
   "metadata": {},
   "outputs": [],
   "source": [
    "os.environ[\"TAVILY_API_KEY\"] = getpass.getpass(\"TAVILY_API_KEY\")"
   ]
  },
  {
   "cell_type": "code",
   "execution_count": 4,
   "id": "4e6e2556",
   "metadata": {},
   "outputs": [],
   "source": [
    "os.environ[\"OPENAI_API_KEY\"] = getpass.getpass(\"Enter your OpenAI API key: \")"
   ]
  },
  {
   "cell_type": "code",
   "execution_count": 5,
   "id": "66b428c2",
   "metadata": {},
   "outputs": [],
   "source": [
    "os.environ[\"USDA_API_KEY\"] = getpass.getpass(\"Enter your USDA API key: \")"
   ]
  },
  {
   "cell_type": "code",
   "execution_count": 6,
   "id": "c6bfb329",
   "metadata": {},
   "outputs": [],
   "source": [
    "# from utils.graph import graph\n",
    "from utils.graph import build_graph"
   ]
  },
  {
   "cell_type": "code",
   "execution_count": 7,
   "id": "d8d51af5",
   "metadata": {},
   "outputs": [
    {
     "name": "stderr",
     "output_type": "stream",
     "text": [
      "/Users/Work/Desktop/ai_bootcamp/code/Cert_Challenge/AIE7_Certification_Challenge/src/utils/graph.py:24: LangChainDeprecationWarning: The class `TavilySearchResults` was deprecated in LangChain 0.3.25 and will be removed in 1.0. An updated version of the class exists in the :class:`~langchain-tavily package and should be used instead. To use it run `pip install -U :class:`~langchain-tavily` and import as `from :class:`~langchain_tavily import TavilySearch``.\n",
      "  tavily_tool = TavilySearchResults(max_results=5)\n"
     ]
    },
    {
     "data": {
      "image/png": "[encoded data removed]",
      "text/plain": [
       "<IPython.core.display.Image object>"
      ]
     },
     "metadata": {},
     "output_type": "display_data"
    }
   ],
   "source": [
    "# graph = build_graph(model_name=\"gpt-4.1-nano\",display_graph=True)\n",
    "graph = build_graph(model_name = \"gpt-4.1\",display_graph=True)"
   ]
  },
  {
   "cell_type": "code",
   "execution_count": 8,
   "id": "76edc8ac",
   "metadata": {},
   "outputs": [],
   "source": [
    "# https://world.openfoodfacts.org/product/0074806103173/fruit-flavored-drink"
   ]
  },
  {
   "cell_type": "code",
   "execution_count": 9,
   "id": "d47fe306",
   "metadata": {},
   "outputs": [],
   "source": [
    "# Example usage function\n",
    "# def validate_upc_with_description(upc: str, description: str, model_name: str = 'claude-sonnet-4-20250514'):\n",
    "#     \"\"\"\n",
    "#     Convenience function to validate a UPC with description.\n",
    "    \n",
    "#     Args:\n",
    "#         upc (str): The UPC code to validate\n",
    "#         description (str): Product description\n",
    "#         model_name (str): Model to use for the agent\n",
    "        \n",
    "#     Returns:\n",
    "#         The agent's response\n",
    "#     \"\"\"\n",
    "#     graph = build_graph(model_name)\n",
    "    \n",
    "#     # Format the input as specified\n",
    "#     input_text = f\"{{upc:{upc},description:{description}}}\"\n",
    "    \n",
    "#     from langchain_core.messages import HumanMessage\n",
    "#     messages = [HumanMessage(content=input_text)]\n",
    "    \n",
    "#     # Run the graph\n",
    "#     result = graph.invoke({\"messages\": messages})\n",
    "    \n",
    "#     return result[\"messages\"][-1].content"
   ]
  },
  {
   "cell_type": "code",
   "execution_count": 10,
   "id": "570e8a0c",
   "metadata": {},
   "outputs": [
    {
     "name": "stdout",
     "output_type": "stream",
     "text": [
      "Extraction Confidence: ✅ High (Structured input provided)\n",
      "- Extracted UPC: 028400433303\n",
      "- Extracted Description: \"hot chips\"\n",
      "\n",
      "Validation Process:\n",
      "- UPC \"028400433303\" is valid (check digit passed).\n",
      "\n",
      "Product Lookup Results:\n",
      "\n",
      "OpenFoodFacts:\n",
      "- Product Name: Cheetos Crunchy XXTRA Flamin' Hot\n",
      "- Brand: Cheetos\n",
      "- Categories: Not specified\n",
      "- OpenFoodFacts page: https://world.openfoodfacts.org/product/028400433303\n",
      "\n",
      "USDA Food Data Central:\n",
      "- Description: CHEESE FLAVORED SNACKS, XXTRA FLAMIN' HOT\n",
      "- Brand Owner: Frito-Lay Company\n",
      "- Brand Name: CHEETOS\n",
      "- Main Ingredients: Enriched corn meal, vegetable oil, XXTRA Flamin' Hot seasoning, cheddar cheese, and more.\n",
      "- Nutrition (per 100g): 571 kcal, 35.7g fat, 57.1g carbs, 7.14g protein, 821mg sodium\n",
      "\n",
      "Web Search:\n",
      "- Multiple sources confirm product as \"Cheetos Crunchy XXTRA Flamin' Hot\" (UPCitemdb, Target, Walmart, Cheetos official website).\n",
      "- Product is consistently described as an extra spicy, crunchy cheese-flavored snack.\n",
      "\n",
      "Description Comparison:\n",
      "🔍 User description \"hot chips\" partially matches - found related terms in [category: spicy cheese snacks, product: Cheetos Crunchy XXTRA Flamin' Hot]\n",
      "\n",
      "Summary:\n",
      "- The UPC 028400433303 corresponds to Cheetos Crunchy XXTRA Flamin' Hot, a cheese-flavored, extra spicy crunchy snack.\n",
      "- Your description of \"hot chips\" is partially accurate, as this product is a hot/spicy crunchy chip (snack).\n",
      "- If you need detailed nutrition facts or ingredients, let me know!\n"
     ]
    }
   ],
   "source": [
    "# Format the input as specified\n",
    "input_text = \"{upc:028400433303,description:hot chips}\"\n",
    "\n",
    "messages = [HumanMessage(content=input_text)]\n",
    "\n",
    "# Run the graph\n",
    "result = graph.invoke({\"messages\": messages})\n",
    "\n",
    "print(result[\"messages\"][-1].content)"
   ]
  },
  {
   "cell_type": "code",
   "execution_count": 11,
   "id": "e7ff42f1",
   "metadata": {},
   "outputs": [],
   "source": [
    "#######STATE IS NOT MAINTAINED!!!!#######\n",
    "# IN:\n",
    "# messages = [HumanMessage(content=\"what are the ingredients?\")]\n",
    "\n",
    "# # Run the graph\n",
    "# result = graph.invoke({\"messages\": messages})\n",
    "\n",
    "# print(result[\"messages\"][-1].content)\n",
    "\n",
    "#OUT:\n",
    "# I didn’t find a product or UPC code in your message. To help you with ingredients, \n",
    "# please provide a product name or a UPC/barcode number. For example, you can say \n",
    "# “What are the ingredients for UPC 028400433303?” or “Tell me the ingredients in Lay’s Classic Potato Chips.”\n"
   ]
  },
  {
   "cell_type": "code",
   "execution_count": 12,
   "id": "4613ef72",
   "metadata": {},
   "outputs": [
    {
     "name": "stdout",
     "output_type": "stream",
     "text": [
      "Extraction confidence: ✅ High (structured input)\n",
      "- Original UPC provided: 7480610317 (10 digits)\n",
      "- Corrected to UPC-A: 074806103173 (check digit added: 3)\n",
      "\n",
      "User description: \"juice\"\n",
      "\n",
      "Product Lookup Results:\n",
      "- OpenFoodFacts: \"Fruit flavored drink\", Brand: LITTLE HUG, Ingredients: Water, high fructose corn syrup, citric acid, natural and artificial flavors, sodium citrate, acesulfame potassium, sucralose, vitamin E acetate, niacin, pantothenic acid, vitamin B6, vitamin B12, biotin.\n",
      "- USDA FDC: \"FRUIT FLAVORED DRINK, BLUE RASPBERRY\", Brand: LITTLE HUG, Owner: Harvest Hill Beverage Company, Same ingredient list as above.\n",
      "\n",
      "Description comparison:\n",
      "🔍 User description \"juice\" partially matches - found related terms in [category: beverages, product: fruit flavored drink]. This product is technically a \"fruit flavored drink\" (not 100% juice), commonly marketed for kids.\n",
      "\n",
      "Additional web info:\n",
      "- These drinks are known as \"Little Hug Fruit Barrels,\" available in flavors like Blue Raspberry, Fruit Punch, etc.\n",
      "- Each 8 fl oz serving contains about 1g of sugar and 5 calories, with vitamins added, but it is not a pure juice.\n",
      "\n",
      "Summary:\n",
      "- Product is a fruit flavored beverage, not actual juice.\n",
      "- Brand: LITTLE HUG\n",
      "- Typical flavors: Blue Raspberry, Fruit Punch, Kiwi-Strawberry, Grape\n",
      "- Low sugar and vitamin fortified\n",
      "\n",
      "If you need more details (like full nutrition, ingredients, or want a specific flavor's info), let me know! If you were looking for 100% juice, please confirm if this is the intended product.\n"
     ]
    }
   ],
   "source": [
    "# Format the input as specified\n",
    "input_text = \"{upc:7480610317,description:juice}\"\n",
    "\n",
    "messages = [HumanMessage(content=input_text)]\n",
    "\n",
    "# Run the graph\n",
    "result = graph.invoke({\"messages\": messages})\n",
    "\n",
    "print(result[\"messages\"][-1].content)"
   ]
  },
  {
   "cell_type": "code",
   "execution_count": 13,
   "id": "d719f601",
   "metadata": {},
   "outputs": [
    {
     "name": "stdout",
     "output_type": "stream",
     "text": [
      "DEBUG - Model response content: {\"upc\": \"028400596008\", \"description\": \"hot fries\", \"confidence\": \"High\", \"found_upc\": true}\n",
      "Extraction confidence: High  \n",
      "Extracted UPC: 028400596008  \n",
      "Extracted description: \"hot fries\"\n",
      "\n",
      "Validation:\n",
      "- UPC 028400596008 is valid.\n",
      "\n",
      "Database Results:\n",
      "- OpenFoodFacts: Product is \"Fries Corn & Potato Snacks, Flamin' Hot\" by Chester's.  \n",
      "- USDA Food Data Central: Product is \"CORN & POTATO SNACKS, FLAMIN' HOT\" by CHESTER'S (Frito-Lay).\n",
      "\n",
      "Description Comparison:\n",
      "✅ User description 'hot fries' matches the product data (commonly known as Chester's Flamin' Hot Fries).\n",
      "\n",
      "Supplementary Web Information:\n",
      "- Multiple retail and product sites (including Frito-Lay and upcitemdb) confirm this is Chester's Flamin' Hot Fries, a spicy corn and potato snack shaped like fries.\n",
      "\n",
      "Summary:\n",
      "- Product: Chester's Flamin' Hot Fries (UPC 028400596008)\n",
      "- Brand: Chester's (Frito-Lay)\n",
      "- Description: Spicy, crunchy corn and potato snacks shaped like fries (\"Hot Fries\")\n",
      "- Ingredients include: Enriched corn meal, vegetable oil, dried potatoes, cheddar cheese, spices, artificial color, and more.\n",
      "\n",
      "For more details:\n",
      "- [OpenFoodFacts entry](https://world.openfoodfacts.org/product/028400596008)\n",
      "- [Frito-Lay’s product page](https://www.fritolay.com/products/chesters-flamin-hot-fries-flavored-corn-snacks)\n",
      "\n",
      "If you need nutrition facts, ingredient breakdown, or have further questions, let me know!\n"
     ]
    }
   ],
   "source": [
    "# Format the input as specified\n",
    "messages = [HumanMessage(content=\"I have information about a product with the upc code 028400596008 and the description hot fries. What is this?\")]\n",
    "\n",
    "# Run the graph\n",
    "result = graph.invoke({\"messages\": messages})\n",
    "\n",
    "print(result[\"messages\"][-1].content)"
   ]
  },
  {
   "cell_type": "code",
   "execution_count": 8,
   "id": "d82b3b5b",
   "metadata": {},
   "outputs": [
    {
     "name": "stdout",
     "output_type": "stream",
     "text": [
      "Receiving update from node: 'assistant'\n",
      "[AIMessage(content='', additional_kwargs={'tool_calls': [{'id': 'call_EgEDg1AjYUayHxTvp6AMn7m5', 'function': {'arguments': '{\"input_text\":\"I have information about a product with the upc code 028400596008 and the description hot fries. What is this?\"}', 'name': 'upc_extraction'}, 'type': 'function'}], 'refusal': None}, response_metadata={'token_usage': {'completion_tokens': 42, 'prompt_tokens': 1475, 'total_tokens': 1517, 'completion_tokens_details': {'accepted_prediction_tokens': 0, 'audio_tokens': 0, 'reasoning_tokens': 0, 'rejected_prediction_tokens': 0}, 'prompt_tokens_details': {'audio_tokens': 0, 'cached_tokens': 0}}, 'model_name': 'gpt-4.1-2025-04-14', 'system_fingerprint': 'fp_6608a0a96a', 'finish_reason': 'tool_calls', 'logprobs': None}, id='run--40312136-8b7d-4201-a717-43736a4a5320-0', tool_calls=[{'name': 'upc_extraction', 'args': {'input_text': 'I have information about a product with the upc code 028400596008 and the description hot fries. What is this?'}, 'id': 'call_EgEDg1AjYUayHxTvp6AMn7m5', 'type': 'tool_call'}], usage_metadata={'input_tokens': 1475, 'output_tokens': 42, 'total_tokens': 1517, 'input_token_details': {'audio': 0, 'cache_read': 0}, 'output_token_details': {'audio': 0, 'reasoning': 0}})]\n",
      "\n",
      "\n",
      "\n",
      "Receiving update from node: 'tools'\n",
      "[ToolMessage(content='{\"success\": true, \"upc\": \"028400596008\", \"description\": \"hot fries\", \"confidence\": \"High\", \"message\": \"Extracted UPC: 028400596008, Description: hot fries\"}', name='upc_extraction', id='a9242188-1ee1-44bc-9d6e-0a33d7f84323', tool_call_id='call_EgEDg1AjYUayHxTvp6AMn7m5')]\n",
      "\n",
      "\n",
      "\n",
      "Receiving update from node: 'assistant'\n",
      "[AIMessage(content='', additional_kwargs={'tool_calls': [{'id': 'call_MF25upPDlVwtBJp4MNTKVk1G', 'function': {'arguments': '{\"upc\":\"028400596008\"}', 'name': 'upc_validator'}, 'type': 'function'}], 'refusal': None}, response_metadata={'token_usage': {'completion_tokens': 19, 'prompt_tokens': 1574, 'total_tokens': 1593, 'completion_tokens_details': {'accepted_prediction_tokens': 0, 'audio_tokens': 0, 'reasoning_tokens': 0, 'rejected_prediction_tokens': 0}, 'prompt_tokens_details': {'audio_tokens': 0, 'cached_tokens': 1408}}, 'model_name': 'gpt-4.1-2025-04-14', 'system_fingerprint': 'fp_6608a0a96a', 'finish_reason': 'tool_calls', 'logprobs': None}, id='run--09e3920d-3245-46c3-b201-fce136846731-0', tool_calls=[{'name': 'upc_validator', 'args': {'upc': '028400596008'}, 'id': 'call_MF25upPDlVwtBJp4MNTKVk1G', 'type': 'tool_call'}], usage_metadata={'input_tokens': 1574, 'output_tokens': 19, 'total_tokens': 1593, 'input_token_details': {'audio': 0, 'cache_read': 1408}, 'output_token_details': {'audio': 0, 'reasoning': 0}})]\n",
      "\n",
      "\n",
      "\n",
      "Receiving update from node: 'tools'\n",
      "[ToolMessage(content='Valid UPC-A: 028400596008. Check digit validation passed.', name='upc_validator', id='b222f2d4-23fb-4975-b152-66e44ae94afb', tool_call_id='call_MF25upPDlVwtBJp4MNTKVk1G')]\n",
      "\n",
      "\n",
      "\n",
      "Receiving update from node: 'assistant'\n",
      "[AIMessage(content='', additional_kwargs={'tool_calls': [{'id': 'call_egDxC7CaXsYX00XZtmbcA9GG', 'function': {'arguments': '{\"query\": \"028400596008\"}', 'name': 'rag_tool'}, 'type': 'function'}, {'id': 'call_3LKh3cUBkHtlIp0KEWO57IIa', 'function': {'arguments': '{\"query\": \"hot fries\"}', 'name': 'rag_tool'}, 'type': 'function'}, {'id': 'call_xB0LGHZ58GyW4vlNWFOCPfzN', 'function': {'arguments': '{\"upc\": \"028400596008\"}', 'name': 'usda_fdc_search'}, 'type': 'function'}, {'id': 'call_ZexSfaAQWT2PxaKtYpFBaCCl', 'function': {'arguments': '{\"input_text\": \"hot fries\"}', 'name': 'upc_extraction'}, 'type': 'function'}, {'id': 'call_k3BKIos7kcIvE3RUvggMUg1B', 'function': {'arguments': '{\"query\": \"028400596008\"}', 'name': 'tavily_search_results_json'}, 'type': 'function'}], 'refusal': None}, response_metadata={'token_usage': {'completion_tokens': 110, 'prompt_tokens': 1617, 'total_tokens': 1727, 'completion_tokens_details': {'accepted_prediction_tokens': 0, 'audio_tokens': 0, 'reasoning_tokens': 0, 'rejected_prediction_tokens': 0}, 'prompt_tokens_details': {'audio_tokens': 0, 'cached_tokens': 1536}}, 'model_name': 'gpt-4.1-2025-04-14', 'system_fingerprint': 'fp_6608a0a96a', 'finish_reason': 'tool_calls', 'logprobs': None}, id='run--6937f5b4-37a8-431e-abd8-1cfdd5d9d38d-0', tool_calls=[{'name': 'rag_tool', 'args': {'query': '028400596008'}, 'id': 'call_egDxC7CaXsYX00XZtmbcA9GG', 'type': 'tool_call'}, {'name': 'rag_tool', 'args': {'query': 'hot fries'}, 'id': 'call_3LKh3cUBkHtlIp0KEWO57IIa', 'type': 'tool_call'}, {'name': 'usda_fdc_search', 'args': {'upc': '028400596008'}, 'id': 'call_xB0LGHZ58GyW4vlNWFOCPfzN', 'type': 'tool_call'}, {'name': 'upc_extraction', 'args': {'input_text': 'hot fries'}, 'id': 'call_ZexSfaAQWT2PxaKtYpFBaCCl', 'type': 'tool_call'}, {'name': 'tavily_search_results_json', 'args': {'query': '028400596008'}, 'id': 'call_k3BKIos7kcIvE3RUvggMUg1B', 'type': 'tool_call'}], usage_metadata={'input_tokens': 1617, 'output_tokens': 110, 'total_tokens': 1727, 'input_token_details': {'audio': 0, 'cache_read': 1536}, 'output_token_details': {'audio': 0, 'reasoning': 0}})]\n",
      "\n",
      "\n",
      "\n",
      "Receiving update from node: 'tools'\n",
      "[ToolMessage(content='{\\'messages\\': [HumanMessage(content=\\'The product with UPC code 028400596008 is listed in the OpenFoodFacts database.\\', additional_kwargs={}, response_metadata={})], \\'context\\': [Document(metadata={\\'source\\': \"/Users/Work/Desktop/ai_bootcamp/code/Cert_Challenge/AIE7_Certification_Challenge/data/Fries_Corn_&_Potato_Snacks,_Flamin\\'_Hot_product_summary.txt\", \\'_id\\': \\'fe81abc8aad243af95b3b3db364255f6\\', \\'_collection_name\\': \\'Product_Data\\'}, page_content=\\'This information is sourced from the OpenFoodFacts database, a collaborative \\\\nproject that aims to create a comprehensive database of food products worldwide.\\\\n\\\\nGenerated on: 2025-08-02 20:16:03\\\\nUPC: 028400596008\\\\nSource: OpenFoodFacts Database\\'), Document(metadata={\\'source\\': \\'/Users/Work/Desktop/ai_bootcamp/code/Cert_Challenge/AIE7_Certification_Challenge/data/Nabisco_Mini_Chips_Ahoy_Big_Bag_product_summary.txt\\', \\'_id\\': \\'11e791551201439fa1db12fa8baf1ab1\\', \\'_collection_name\\': \\'Product_Data\\'}, page_content=\\'This information is sourced from the OpenFoodFacts database, a collaborative \\\\nproject that aims to create a comprehensive database of food products worldwide.\\\\n\\\\nGenerated on: 2025-08-02 20:15:58\\\\nUPC: 044000006792\\\\nSource: OpenFoodFacts Database\\'), Document(metadata={\\'source\\': \"/Users/Work/Desktop/ai_bootcamp/code/Cert_Challenge/AIE7_Certification_Challenge/data/Cheetos_Crunchy_xxtra_Flamin\\'_Hot_product_summary.txt\", \\'_id\\': \\'64c53a481b4f439ca6b60f513be4645e\\', \\'_collection_name\\': \\'Product_Data\\'}, page_content=\\'This information is sourced from the OpenFoodFacts database, a collaborative \\\\nproject that aims to create a comprehensive database of food products worldwide.\\\\n\\\\nGenerated on: 2025-08-02 20:16:05\\\\nUPC: 028400433303\\\\nSource: OpenFoodFacts Database\\'), Document(metadata={\\'source\\': \\'/Users/Work/Desktop/ai_bootcamp/code/Cert_Challenge/AIE7_Certification_Challenge/data/Pomegranate_fruit_ice_bars,_pomegranate_product_summary.txt\\', \\'_id\\': \\'380b273285be43ae820abd873e135e6b\\', \\'_collection_name\\': \\'Product_Data\\'}, page_content=\\'This information is sourced from the OpenFoodFacts database, a collaborative \\\\nproject that aims to create a comprehensive database of food products worldwide.\\\\n\\\\nGenerated on: 2025-08-02 20:16:10\\\\nUPC: 041548750927\\\\nSource: OpenFoodFacts Database\\'), Document(metadata={\\'source\\': \\'/Users/Work/Desktop/ai_bootcamp/code/Cert_Challenge/AIE7_Certification_Challenge/data/Error_Fetching_Product_product_summary.txt\\', \\'_id\\': \\'a062ffee75b049e9a45fafe8b98d9934\\', \\'_collection_name\\': \\'Product_Data\\'}, page_content=\\'Product Information Summary\\\\nUPC: 085002805155\\\\nStatus: Product Not Found\\\\n\\\\nThis product with UPC code 085002805155 could not be found in the OpenFoodFacts database. \\\\nThis may indicate that the product is not cataloged in the OpenFoodFacts system, \\\\nthe UPC code may be incorrect, or the product may be region-specific and not \\\\navailable in the global database.\\\\n\\\\nFor more information about this UPC code, you may want to:\\\\n- Verify the UPC code is correct\\\\n- Check if the product is available in regional databases\\\\n- Contact the manufacturer directly for product information\\\\n\\\\nGenerated on: 2025-08-02 20:16:11\\')]}', name='rag_tool', id='f0408fe2-83d7-4950-9169-cd49ac1598be', tool_call_id='call_egDxC7CaXsYX00XZtmbcA9GG'), ToolMessage(content='{\\'messages\\': [HumanMessage(content=\\'\"Hot fries\" typically refers to spicy flavored snack fries. Based on the provided context, the product that closely matches this description is **Fries Corn & Potato Snacks, Flamin\\\\\\' Hot** manufactured by Chester\\\\\\'s. It is a spicy snack product available in the United States, characterized by a hot flavor profile.\\', additional_kwargs={}, response_metadata={})], \\'context\\': [Document(metadata={\\'source\\': \"/Users/Work/Desktop/ai_bootcamp/code/Cert_Challenge/AIE7_Certification_Challenge/data/Fries_Corn_&_Potato_Snacks,_Flamin\\'_Hot_product_summary.txt\", \\'_id\\': \\'afe1cf0d4b944586b891aba33b8f2434\\', \\'_collection_name\\': \\'Product_Data\\'}, page_content=\"Product Information Summary\\\\nUPC: 028400596008\\\\nProduct Name: Fries Corn & Potato Snacks, Flamin\\' Hot\\\\n\\\\nOVERVIEW\\\\nFries Corn & Potato Snacks, Flamin\\' Hot is a food product manufactured by Chester\\'s. This product \\\\nis classified under the following categories: Uncategorized. The product is \\\\navailable in the following countries: United States.\\\\n\\\\nBRAND AND MANUFACTURER\\\\nBrand: Chester\\'s\\\\nThis product is produced and distributed by Chester\\'s, ensuring quality and \\\\nconsistency in manufacturing standards.\\\\n\\\\nPRODUCT CATEGORIZATION\\\\nCategories: Uncategorized\\\\nThe product falls under these specific food categories, which helps consumers \\\\nunderstand the type of food product and its intended use in meal planning and \\\\ndietary considerations.\"), Document(metadata={\\'source\\': \"/Users/Work/Desktop/ai_bootcamp/code/Cert_Challenge/AIE7_Certification_Challenge/data/Cheetos_Crunchy_xxtra_Flamin\\'_Hot_product_summary.txt\", \\'_id\\': \\'9c95091edbb246189c07fe75bc2e0d4d\\', \\'_collection_name\\': \\'Product_Data\\'}, page_content=\"Product Information Summary\\\\nUPC: 028400433303\\\\nProduct Name: Cheetos Crunchy xxtra Flamin\\' Hot\\\\n\\\\nOVERVIEW\\\\nCheetos Crunchy xxtra Flamin\\' Hot is a food product manufactured by Cheetos. This product \\\\nis classified under the following categories: Uncategorized. The product is \\\\navailable in the following countries: France.\\\\n\\\\nBRAND AND MANUFACTURER\\\\nBrand: Cheetos\\\\nThis product is produced and distributed by Cheetos, ensuring quality and \\\\nconsistency in manufacturing standards.\\\\n\\\\nPRODUCT CATEGORIZATION\\\\nCategories: Uncategorized\\\\nThe product falls under these specific food categories, which helps consumers \\\\nunderstand the type of food product and its intended use in meal planning and \\\\ndietary considerations.\"), Document(metadata={\\'source\\': \\'/Users/Work/Desktop/ai_bootcamp/code/Cert_Challenge/AIE7_Certification_Challenge/data/Fruit_by_the_Foot_Variety_Pack_12_Count_product_summary.txt\\', \\'_id\\': \\'8f62407f1b7c4b56893a1891ccb0f7d9\\', \\'_collection_name\\': \\'Product_Data\\'}, page_content=\\'PRODUCT CATEGORIZATION\\\\nCategories: Snacks\\\\nThe product falls under these specific food categories, which helps consumers \\\\nunderstand the type of food product and its intended use in meal planning and \\\\ndietary considerations.\\\\n\\\\nINGREDIENTS AND COMPOSITION\\\\nThe following ingredients are listed for this product:\\'), Document(metadata={\\'source\\': \\'/Users/Work/Desktop/ai_bootcamp/code/Cert_Challenge/AIE7_Certification_Challenge/data/Nabisco_Mini_Chips_Ahoy_Big_Bag_product_summary.txt\\', \\'_id\\': \\'52b8c9049be9406798599b5d5c13c3ca\\', \\'_collection_name\\': \\'Product_Data\\'}, page_content=\\'ADDITIONAL PRODUCT DETAILS\\\\n• Package Size: 3 oz\\\\n• Serving Size: 5 COOKIES (29 g)\\\\n\\\\nQUALITY AND CERTIFICATIONS\\\\nThis product has the following certifications or quality labels:\\\\n• \\\\nUnknown\\\\n\\\\nThese certifications indicate compliance with specific quality, environmental, \\\\nor ethical standards.\\\\n\\\\nCONSUMER GUIDANCE\\\\nThis product summary is intended to help consumers make informed dietary choices. \\\\nFor the most current product information, including any recent formulation changes, \\\\nconsumers should refer to the actual product packaging and labels.\\\\n\\\\nPRODUCT DATABASE REFERENCE\\\\nFor more detailed information about this product, including user reviews, \\\\nphotos, and additional nutritional data, visit: https://world.openfoodfacts.org/product/044000006792\\'), Document(metadata={\\'source\\': \"/Users/Work/Desktop/ai_bootcamp/code/Cert_Challenge/AIE7_Certification_Challenge/data/Fries_Corn_&_Potato_Snacks,_Flamin\\'_Hot_product_summary.txt\", \\'_id\\': \\'b217d0e8786740068310ad28198047f8\\', \\'_collection_name\\': \\'Product_Data\\'}, page_content=\"• Enriched corn meal (corn meal,\\\\n•  ferrous sulfate,\\\\n•  niacin,\\\\n•  thiamin mononitrate,\\\\n•  riboflavin,\\\\n•  and folic acid),\\\\n•  vegetable oil (corn,\\\\n•  canola,\\\\n•  and/or sunflower oil),\\\\n•  dried potatoes,\\\\n•  cheddar cheese (milk,\\\\n•  cheese cultures,\\\\n•  salt,\\\\n•  enzymes),\\\\n•  salt,\\\\n•  whey,\\\\n•  buttermilk,\\\\n•  monosodium glutamate. tomato powder,\\\\n•  romano cheese (part-skim cow\\'s milk,\\\\n•  cheese cultures,\\\\n•  salt,\\\\n•  enzymes),\\\\n•  whey protein concentrate,\\\\n•  onion powder,\\\\n•  artificial color (red 40 lake,\\\\n•  yellow 6 lake,\\\\n•  yellow 6),\\\\n•  natural flavor,\\\\n•  garlic powder,\\\\n•  lactic acid,\\\\n•  citric acid,\\\\n•  sugar,\\\\n•  disodium inosinate,\\\\n•  and disodium guanylate.\")]}', name='rag_tool', id='15bae7d9-cf6a-427c-bfd0-3045ab170c82', tool_call_id='call_3LKh3cUBkHtlIp0KEWO57IIa'), ToolMessage(content=\"Product found in USDA Food Data Central:\\n\\nFDC ID: 1507755\\nDescription: CORN & POTATO SNACKS, FLAMIN' HOT\\nBrand Owner: Frito-Lay Company\\nBrand Name: CHESTER'S\\nData Type: Branded\\nUPC/GTIN: 028400596008\\nPublished Date: 2021-03-19\\nIngredients: ENRICHED CORN MEAL (CORN MEAL, FERROUS SULFATE, NIACIN, THIAMIN MONONITRATE, RIBOFLAVIN, FOLIC ACID), VEGETABLE OIL (CORN, CANOLA, AND/OR SUNFLOWER OIL), DRIED POTATOES, SALT, WHEY, MALTODEXTRIN (MADE FROM CORN), CITRIC ACID, BUTTERMILK, MONOSODIUM GLUTAMATE, ROMANO CHEESE (COW'S MILK, CHEESE CULTURES, SALT, ENZYMES), TOMATO POWDER, CHEDDAR CHEESE (MILK, CHEESE CULTURES, SALT, ENZYMES), ONION POWDER, ARTIFICIAL COLOR (RED 40 LAKE, YELLOW 6 LAKE, YELLOW 6), NATURAL FLAVOR, GARLIC POWDER, SODIUM CASEINATE, LACTOSE, LACTIC ACID, SUGAR, SKIM MILK, WHEY PROTEIN CONCENTRATE, DISODIUM INOSINATE AND DISODIUM GUANYLATE.\\nServing Size: 28.0 g\\nHousehold Serving: 1 ONZ\\n\\nKey Nutrients (per 100g):\\nProtein: 7.14 G\\nTotal lipid (fat): 28.6 G\\nCarbohydrate, by difference: 60.7 G\\nEnergy: 536 KCAL\\nTotal Sugars: 3.57 G\\nFiber, total dietary: 3.6 G\\nSodium, Na: 1000.0 MG\\n\\nTotal results found: 1\\n\\nThis information is sourced from the USDA Food Data Central database.\", name='usda_fdc_search', id='6537b9ee-b8a1-4a16-95d8-d3d9f5cd6c0c', tool_call_id='call_xB0LGHZ58GyW4vlNWFOCPfzN'), ToolMessage(content='{\"success\": false, \"upc\": \"\", \"description\": \"hot fries\", \"confidence\": \"Low\", \"message\": \"No valid UPC found in input\"}', name='upc_extraction', id='5e2e1bf4-9ecc-4784-9d09-f996fc36a9ee', tool_call_id='call_ZexSfaAQWT2PxaKtYpFBaCCl'), ToolMessage(content='[{\"title\": \"Chester\\'s Flamin\\' Hot Fries Flavored Corn & Potato Snacks Bag ...\", \"url\": \"https://www.amazon.com/CHESTERS-Flamin-Flavored-Potato-Snacks/dp/B01KM6MTUK\", \"content\": \"Amazon.com: Chester\\'s Flamin\\' Hot Fries Flavored Corn & Potato Snacks Bag, 5.25 Oz\\\\n\\\\n===============\\\\n\\\\nImage 1Image 2 Shortcuts menu \\\\nSkip to\\\\n-------\\\\n\\\\n   Main content\\\\n   About this item\\\\n   About this item\\\\n   About this item\\\\n   Buying options\\\\n   Compare with similar items\\\\n   Videos\\\\n   Reviews\\\\n\\\\n  \\\\n\\\\nKeyboard shortcuts\\\\n------------------\\\\n\\\\n   Search opt+/\\\\n   Cart shift+opt+C\\\\n   Home shift+opt+H\\\\n   Orders shift+opt+O\\\\n   Add to cart shift+opt+K  \\\\n   Open/close shortcuts menu shift+opt+Z [...] About this item)\\\\n\\\\nBrand Chesters\\\\nFlavor Flamin\\' Hot\\\\nUnit Count 5.25 Ounce\\\\nNumber of Items 1\\\\nType Potato Chip\\\\n\\\\n  \\\\n\\\\nAbout this item\\\\n===============\\\\n\\\\n    5.25 oz bag of CHESTER\\'s Flamin\\' Hot Fries Flavored Corn & Potato Snacks \\\\n    Delicious flamin\\' hot flavor \\\\n    Crunchy and cheesy.Gluten free \\\\n    Great for sharing with family and friends \\\\n\\\\n›See more product details\\\\n\\\\nReport an issue with this product or seller [...] Amazon Visa\\\\n   Amazon Store Card\\\\n   Amazon Secured Card\\\\n   Amazon Business Card\\\\n   Shop with Points\\\\n   Credit Card Marketplace\\\\n   Reload Your Balance\\\\n   Gift Cards\\\\n   Amazon Currency Converter\\\\n\\\\nLet Us Help You\\\\n\\\\n   Your Account\\\\n   Your Orders\\\\n   Shipping Rates & Policies\\\\n   Amazon Prime\\\\n   Returns & Replacements\\\\n   Manage Your Content and Devices\\\\n   Recalls and Product Safety Alerts\\\\n   Registry & Gift List\\\\n   Help\\\\n\\\\n[](\\\\n\\\\nEnglish\\\\n\\\\nUnited States\\\\n\\\\n   ##### Amazon Music Stream millions of songs\", \"score\": 0.11183174}, {\"title\": \"Tracking Your Shipment or Packages - FedEx\", \"url\": \"https://www.fedex.com/en-us/tracking.html\", \"content\": \"Enter up to 30 of your FedEx tracking numbers\\\\n=============================================\\\\n\\\\n Tracking number \\\\n\\\\nNEED HELP?\\\\n\\\\nTrack\\\\n\\\\nLOGIN TO ACCESS BILL OF LADING\\\\n\\\\nTrack all of your FedEx® shipments during the busy holiday season using the convenient tools below. And sign up for FedEx Delivery Manager® for even more control over your deliveries.\\\\n\\\\nSign up for free\\\\n\\\\nTracking options for all of your shipping needs\\\\n-----------------------------------------------\\\\n\\\\n### FedEx parcel and air freight [...] Reference number \\\\n\\\\n Loading... \\\\n\\\\nNEED HELP?\\\\n\\\\n Track \\\\n\\\\nEnter your Transportation Control Number (TCN) for government orders.\\\\n=====================================================================\\\\n\\\\nDo not use any spaces or the letters “TCN” preceding the number.\\\\n================================================================\\\\n\\\\n Enter TCN or tracking number \\\\n\\\\n Ship date \\\\n\\\\nPlease enter the ship date if the package was shipped more than 14 days ago.\\\\n\\\\nNEED HELP?\\\\n\\\\nTrack [...] Start shipping with FedEx One Rate.\\\\n\\\\n  \\\\n\\\\n  \\\\n\\\\n Select a tab \\\\n\\\\n    Tracking number \\\\n    Track by reference \\\\n    Track by TCN \\\\n    Obtain proof of delivery \\\\n\\\\nEnter up to 30 of your FedEx tracking, door tag, or FedEx Office order numbers (one per line).\\\\n----------------------------------------------------------------------------------------------\\\\n\\\\n Tracking number \\\\n\\\\nNEED HELP?\\\\n\\\\nTrack\\\\n\\\\nEnter your reference number or purchase order numbers.\\\\n======================================================\", \"score\": 0.10306976}, {\"title\": \"USPS.com® - USPS Tracking®\", \"url\": \"https://tools.usps.com/go/TrackAction\", \"content\": \"USPS.com® - USPS Tracking®\\\\n\\\\n===============\\\\n\\\\nGo to USPS.com Site Index.Skip to Main ContentSkip All Utility Navigation\\\\n\\\\nCurrent language: English\\\\n   English;)\\\\n   Español;)\\\\n   Chinese;)\\\\n\\\\nLocationsSupportInformed DeliveryRegister / Sign In\\\\n\\\\nSkip all category navigation links\\\\n\\\\nImage 1: Image of USPS.com logo.\\\\n\\\\nImage 2: hamburger menu IconImage 3: USPS mobile logoImage 4: Search Icon\\\\n\\\\nSign In\\\\n\\\\n   Skip Quick Tools LinksQuick Tools [...] Priority Mail Express International\\\\n           Priority Mail International\\\\n           First-Class Package International Service\\\\n           First-Class Mail International\\\\n\\\\n       Filing an International Claim\\\\n       Requesting an International Refund\\\\n\\\\nSearch USPS.com \\\\n\\\\n   Skip Help LinksHelp\\\\n\\\\n       FAQs\\\\n       Finding Missing Mail\\\\n       Filing a Claim\\\\n       Requesting a Refund\\\\n\\\\n   Skip SearchSearch USPS.com\\\\n\\\\nSearch USPS.com Search USPS.com  \\\\n\\\\nTop Searches [...] PO BOXES\\\\n       PASSPORTS\\\\n       FREE BOXES\\\\n\\\\nEnter Search term for Search USPS.com \\\\n\\\\nTop Searches\\\\n\\\\n   PO BOXES\\\\n   PASSPORTS\\\\n   FREE BOXES\\\\n\\\\n or DPO address\\\\n   An international sender\\\\n   A Delivery Signature request\\\\n\\\\n   A Collect on Delivery (COD) request\\\\n   An active USPS Package Intercept® order\\\\n   Insurance for $500 or more\\\\n\\\\n##### Delivery Instructions FAQs\\\\n\\\\nCan’t find what you’re looking for?\\\\n-----------------------------------\", \"score\": 0.09000516}, {\"title\": \"Tracking | UPS - United States\", \"url\": \"https://www.ups.com/track?loc=en_US\", \"content\": \"Track a package or search Scan Barcode\\\\n\\\\nPopular Topics\\\\n\\\\nshipping discountssuppliescustomer servicechange deliveryclaimmy choicepick uptrackingjobsreturns\\\\n\\\\nSearchClose\\\\n\\\\nLog In;)\\\\n   Do Not Sell or Share My Personal Information\\\\n\\\\n  \\\\nCopyright ©1994- 2025  United Parcel Service of America, Inc. All rights reserved.\\\\n\\\\nImage 6\\\\n\\\\nClose\\\\n\\\\nThis website uses cookies and analytics technologies\\\\n---------------------------------------------------- [...] Tracking | UPS - United States\\\\n===============\\\\n\\\\n \\\\n\\\\n   UPS Location NearFind Closest UPS Location)\\\\n    \\\\n\\\\n   Service Alerts\\\\n   United States - English)\\\\n    \\\\n       United States - English\\\\n       Estados Unidos - Español\\\\n    \\\\n    Select Another Country or Territory\\\\n    \\\\n   Support\\\\n\\\\nSkip To Main Content\\\\n\\\\nImage 1: UPS Home Page\\\\n\\\\n   Support\\\\n   United States - English)\\\\n    \\\\n       United States - English\\\\n       Estados Unidos - Español\\\\n    \\\\n    Select Another Country or Territory [...] ### Tracking\\\\n    \\\\n       Track a Package\\\\n       Change a Delivery\\\\n       Go to Tracking Support\\\\n    \\\\n       View Your Home Deliveries _UPS My Choice®_\\\\n       Manage Business Shipments _UPS My Choice® for Business_\\\\n       Shipments for Large Businesses _Quantum View®_\\\\n    \\\\n   Products & Services\\\\n    \\\\n    ### Products & Services\\\\n    \\\\n       Discounted Shipping Rates _Sign up and save up to 83%_\\\\n       Small Business Solutions\\\\n       Shipping Services\", \"score\": 0.078621306}, {\"title\": \"Chester\\'s, Fries, Flamin\\' Hot Flavored, Corn & Potato Snacks ...\", \"url\": \"https://smartlabel.pepsico.info/028400596008-0010-en-US/index.html\", \"content\": \"#### Back)\\\\n\\\\nBack\\\\n\\\\n#### Back)\\\\n\\\\nBack\\\\n\\\\n#### Back)\\\\n\\\\nBack\\\\n\\\\n#### Back)\\\\n\\\\nBack\\\\n\\\\n#### Back) Smartlabel Logo\\\\n\\\\nBack\\\\nSmartlabel Logo\\\\nSmartlabel Logo\\\\n\\\\n# Chester\\'s, Fries, Flamin\\' Hot Flavored, Corn & Potato Snacks\\\\n\\\\nproduct primary image\\\\n\\\\n#### THIS PAGE HAS BEEN RETIRED\\\\n\\\\nA newer version of the product might be available at smartlabel.org\\\\n\\\\n#### Leaving SmartLabel\\\\n\\\\nYou are about to leave SmartLabel and go to a branded site. Would you like to continue?\", \"score\": 0.029762978}]', name='tavily_search_results_json', id='059b9fc0-9637-4d40-b754-22b79b6713ea', tool_call_id='call_k3BKIos7kcIvE3RUvggMUg1B', artifact={'query': '028400596008', 'follow_up_questions': None, 'answer': None, 'images': [], 'results': [{'url': 'https://www.amazon.com/CHESTERS-Flamin-Flavored-Potato-Snacks/dp/B01KM6MTUK', 'title': \"Chester's Flamin' Hot Fries Flavored Corn & Potato Snacks Bag ...\", 'content': \"Amazon.com: Chester's Flamin' Hot Fries Flavored Corn & Potato Snacks Bag, 5.25 Oz\\n\\n===============\\n\\nImage 1Image 2 Shortcuts menu \\nSkip to\\n-------\\n\\n   Main content\\n   About this item\\n   About this item\\n   About this item\\n   Buying options\\n   Compare with similar items\\n   Videos\\n   Reviews\\n\\n  \\n\\nKeyboard shortcuts\\n------------------\\n\\n   Search opt+/\\n   Cart shift+opt+C\\n   Home shift+opt+H\\n   Orders shift+opt+O\\n   Add to cart shift+opt+K  \\n   Open/close shortcuts menu shift+opt+Z [...] About this item)\\n\\nBrand Chesters\\nFlavor Flamin' Hot\\nUnit Count 5.25 Ounce\\nNumber of Items 1\\nType Potato Chip\\n\\n  \\n\\nAbout this item\\n===============\\n\\n    5.25 oz bag of CHESTER's Flamin' Hot Fries Flavored Corn & Potato Snacks \\n    Delicious flamin' hot flavor \\n    Crunchy and cheesy.Gluten free \\n    Great for sharing with family and friends \\n\\n›See more product details\\n\\nReport an issue with this product or seller [...] Amazon Visa\\n   Amazon Store Card\\n   Amazon Secured Card\\n   Amazon Business Card\\n   Shop with Points\\n   Credit Card Marketplace\\n   Reload Your Balance\\n   Gift Cards\\n   Amazon Currency Converter\\n\\nLet Us Help You\\n\\n   Your Account\\n   Your Orders\\n   Shipping Rates & Policies\\n   Amazon Prime\\n   Returns & Replacements\\n   Manage Your Content and Devices\\n   Recalls and Product Safety Alerts\\n   Registry & Gift List\\n   Help\\n\\n[](\\n\\nEnglish\\n\\nUnited States\\n\\n   ##### Amazon Music Stream millions of songs\", 'score': 0.11183174, 'raw_content': None}, {'url': 'https://www.fedex.com/en-us/tracking.html', 'title': 'Tracking Your Shipment or Packages - FedEx', 'content': 'Enter up to 30 of your FedEx tracking numbers\\n=============================================\\n\\n Tracking number \\n\\nNEED HELP?\\n\\nTrack\\n\\nLOGIN TO ACCESS BILL OF LADING\\n\\nTrack all of your FedEx® shipments during the busy holiday season using the convenient tools below. And sign up for FedEx Delivery Manager® for even more control over your deliveries.\\n\\nSign up for free\\n\\nTracking options for all of your shipping needs\\n-----------------------------------------------\\n\\n### FedEx parcel and air freight [...] Reference number \\n\\n Loading... \\n\\nNEED HELP?\\n\\n Track \\n\\nEnter your Transportation Control Number (TCN) for government orders.\\n=====================================================================\\n\\nDo not use any spaces or the letters “TCN” preceding the number.\\n================================================================\\n\\n Enter TCN or tracking number \\n\\n Ship date \\n\\nPlease enter the ship date if the package was shipped more than 14 days ago.\\n\\nNEED HELP?\\n\\nTrack [...] Start shipping with FedEx One Rate.\\n\\n  \\n\\n  \\n\\n Select a tab \\n\\n    Tracking number \\n    Track by reference \\n    Track by TCN \\n    Obtain proof of delivery \\n\\nEnter up to 30 of your FedEx tracking, door tag, or FedEx Office order numbers (one per line).\\n----------------------------------------------------------------------------------------------\\n\\n Tracking number \\n\\nNEED HELP?\\n\\nTrack\\n\\nEnter your reference number or purchase order numbers.\\n======================================================', 'score': 0.10306976, 'raw_content': None}, {'url': 'https://tools.usps.com/go/TrackAction', 'title': 'USPS.com® - USPS Tracking®', 'content': 'USPS.com® - USPS Tracking®\\n\\n===============\\n\\nGo to USPS.com Site Index.Skip to Main ContentSkip All Utility Navigation\\n\\nCurrent language: English\\n   English;)\\n   Español;)\\n   Chinese;)\\n\\nLocationsSupportInformed DeliveryRegister / Sign In\\n\\nSkip all category navigation links\\n\\nImage 1: Image of USPS.com logo.\\n\\nImage 2: hamburger menu IconImage 3: USPS mobile logoImage 4: Search Icon\\n\\nSign In\\n\\n   Skip Quick Tools LinksQuick Tools [...] Priority Mail Express International\\n           Priority Mail International\\n           First-Class Package International Service\\n           First-Class Mail International\\n\\n       Filing an International Claim\\n       Requesting an International Refund\\n\\nSearch USPS.com \\n\\n   Skip Help LinksHelp\\n\\n       FAQs\\n       Finding Missing Mail\\n       Filing a Claim\\n       Requesting a Refund\\n\\n   Skip SearchSearch USPS.com\\n\\nSearch USPS.com Search USPS.com  \\n\\nTop Searches [...] PO BOXES\\n       PASSPORTS\\n       FREE BOXES\\n\\nEnter Search term for Search USPS.com \\n\\nTop Searches\\n\\n   PO BOXES\\n   PASSPORTS\\n   FREE BOXES\\n\\n or DPO address\\n   An international sender\\n   A Delivery Signature request\\n\\n   A Collect on Delivery (COD) request\\n   An active USPS Package Intercept® order\\n   Insurance for $500 or more\\n\\n##### Delivery Instructions FAQs\\n\\nCan’t find what you’re looking for?\\n-----------------------------------', 'score': 0.09000516, 'raw_content': None}, {'url': 'https://www.ups.com/track?loc=en_US', 'title': 'Tracking | UPS - United States', 'content': 'Track a package or search Scan Barcode\\n\\nPopular Topics\\n\\nshipping discountssuppliescustomer servicechange deliveryclaimmy choicepick uptrackingjobsreturns\\n\\nSearchClose\\n\\nLog In;)\\n   Do Not Sell or Share My Personal Information\\n\\n  \\nCopyright ©1994- 2025  United Parcel Service of America, Inc. All rights reserved.\\n\\nImage 6\\n\\nClose\\n\\nThis website uses cookies and analytics technologies\\n---------------------------------------------------- [...] Tracking | UPS - United States\\n===============\\n\\n \\n\\n   UPS Location NearFind Closest UPS Location)\\n    \\n\\n   Service Alerts\\n   United States - English)\\n    \\n       United States - English\\n       Estados Unidos - Español\\n    \\n    Select Another Country or Territory\\n    \\n   Support\\n\\nSkip To Main Content\\n\\nImage 1: UPS Home Page\\n\\n   Support\\n   United States - English)\\n    \\n       United States - English\\n       Estados Unidos - Español\\n    \\n    Select Another Country or Territory [...] ### Tracking\\n    \\n       Track a Package\\n       Change a Delivery\\n       Go to Tracking Support\\n    \\n       View Your Home Deliveries _UPS My Choice®_\\n       Manage Business Shipments _UPS My Choice® for Business_\\n       Shipments for Large Businesses _Quantum View®_\\n    \\n   Products & Services\\n    \\n    ### Products & Services\\n    \\n       Discounted Shipping Rates _Sign up and save up to 83%_\\n       Small Business Solutions\\n       Shipping Services', 'score': 0.078621306, 'raw_content': None}, {'url': 'https://smartlabel.pepsico.info/028400596008-0010-en-US/index.html', 'title': \"Chester's, Fries, Flamin' Hot Flavored, Corn & Potato Snacks ...\", 'content': \"#### Back)\\n\\nBack\\n\\n#### Back)\\n\\nBack\\n\\n#### Back)\\n\\nBack\\n\\n#### Back)\\n\\nBack\\n\\n#### Back) Smartlabel Logo\\n\\nBack\\nSmartlabel Logo\\nSmartlabel Logo\\n\\n# Chester's, Fries, Flamin' Hot Flavored, Corn & Potato Snacks\\n\\nproduct primary image\\n\\n#### THIS PAGE HAS BEEN RETIRED\\n\\nA newer version of the product might be available at smartlabel.org\\n\\n#### Leaving SmartLabel\\n\\nYou are about to leave SmartLabel and go to a branded site. Would you like to continue?\", 'score': 0.029762978, 'raw_content': None}], 'response_time': 1.0})]\n",
      "\n",
      "\n",
      "\n",
      "Receiving update from node: 'assistant'\n",
      "[AIMessage(content='Extraction confidence: High  \\nExtracted UPC: 028400596008  \\nExtracted description: hot fries\\n\\nUPC validation:  \\n- 028400596008 is a valid UPC-A (check digit passed)\\n\\nProduct lookup results:\\n\\nOpenFoodFacts / Knowledge Base:\\n- Product: Fries Corn & Potato Snacks, Flamin\\' Hot\\n- Brand: Chester\\'s\\n- Description: Spicy corn and potato snack, Flamin\\' Hot flavor, produced by Chester\\'s, available in the United States. \\n- Main ingredients: Enriched corn meal, vegetable oil, dried potatoes, cheddar cheese, various seasonings, artificial colors.\\n\\nUSDA Food Data Central:\\n- Product: CORN & POTATO SNACKS, FLAMIN\\' HOT\\n- Brand Owner: Frito-Lay Company\\n- Brand Name: CHESTER\\'S\\n- Ingredients: Enriched corn meal (corn meal, ferrous sulfate, niacin, thiamin mononitrate, riboflavin, folic acid), vegetable oil (corn, canola, and/or sunflower oil), dried potatoes, salt, whey, buttermilk, cheeses, tomato powder, onion powder, spices, artificial colors, and more.\\n- Key nutrients (per 100g): Energy 536 kcal, Fat 28.6g, Carbs 60.7g, Protein 7.1g, Sodium 1000mg\\n\\nWeb search:\\n- Multiple sources confirm this is \"Chester\\'s Flamin\\' Hot Fries Flavored Corn & Potato Snacks,\" a spicy, crunchy snack in a red bag, popular in the US.\\n\\nDESCRIPTION COMPARISON:\\n✅ User description \\'hot fries\\' matches the product data: the product is widely known as \"Chester\\'s Flamin\\' Hot Fries\" and matches both in name and product style.\\n\\nSummary:\\n- The product with UPC 028400596008 is Chester\\'s Flamin\\' Hot Fries, a spicy, crunchy corn and potato snack made by Chester\\'s (a Frito-Lay brand).\\n\\nIf you need detailed nutrition information or ingredients, let me know!', additional_kwargs={'refusal': None}, response_metadata={'token_usage': {'completion_tokens': 421, 'prompt_tokens': 6308, 'total_tokens': 6729, 'completion_tokens_details': {'accepted_prediction_tokens': 0, 'audio_tokens': 0, 'reasoning_tokens': 0, 'rejected_prediction_tokens': 0}, 'prompt_tokens_details': {'audio_tokens': 0, 'cached_tokens': 1664}}, 'model_name': 'gpt-4.1-2025-04-14', 'system_fingerprint': 'fp_6608a0a96a', 'finish_reason': 'stop', 'logprobs': None}, id='run--4ea3dbfc-50ed-4ac9-8527-89b658045961-0', usage_metadata={'input_tokens': 6308, 'output_tokens': 421, 'total_tokens': 6729, 'input_token_details': {'audio': 0, 'cache_read': 1664}, 'output_token_details': {'audio': 0, 'reasoning': 0}})]\n",
      "\n",
      "\n",
      "\n"
     ]
    }
   ],
   "source": [
    "inputs = {\"messages\" : [HumanMessage(content=\"I have information about a product with the upc code 028400596008 and the description hot fries. What is this?\")]}\n",
    "\n",
    "async for chunk in graph.astream(inputs, stream_mode=\"updates\"):\n",
    "    for node, values in chunk.items():\n",
    "        print(f\"Receiving update from node: '{node}'\")\n",
    "        print(values[\"messages\"])\n",
    "        print(\"\\n\\n\")"
   ]
  },
  {
   "cell_type": "code",
   "execution_count": 16,
   "id": "aa3345cb",
   "metadata": {},
   "outputs": [
    {
     "name": "stdout",
     "output_type": "stream",
     "text": [
      "Receiving update from node: 'assistant'\n",
      "[AIMessage(content='', additional_kwargs={'tool_calls': [{'id': 'call_sCmCmabcv0SVHeM2CZwMpJJm', 'function': {'arguments': '{\"input_text\":\"I have information about a product with the upc code 8400596007 and the description hot fries. What is this?\"}', 'name': 'upc_extraction'}, 'type': 'function'}], 'refusal': None}, response_metadata={'token_usage': {'completion_tokens': 42, 'prompt_tokens': 1476, 'total_tokens': 1518, 'completion_tokens_details': {'accepted_prediction_tokens': 0, 'audio_tokens': 0, 'reasoning_tokens': 0, 'rejected_prediction_tokens': 0}, 'prompt_tokens_details': {'audio_tokens': 0, 'cached_tokens': 1408}}, 'model_name': 'gpt-4.1-2025-04-14', 'system_fingerprint': 'fp_6608a0a96a', 'finish_reason': 'tool_calls', 'logprobs': None}, id='run--f9b24888-d988-47be-a4f8-d5c38a5e59e5-0', tool_calls=[{'name': 'upc_extraction', 'args': {'input_text': 'I have information about a product with the upc code 8400596007 and the description hot fries. What is this?'}, 'id': 'call_sCmCmabcv0SVHeM2CZwMpJJm', 'type': 'tool_call'}], usage_metadata={'input_tokens': 1476, 'output_tokens': 42, 'total_tokens': 1518, 'input_token_details': {'audio': 0, 'cache_read': 1408}, 'output_token_details': {'audio': 0, 'reasoning': 0}})]\n",
      "\n",
      "\n",
      "\n",
      "DEBUG - Model response content: {\"upc\": \"8400596007\", \"description\": \"hot fries\", \"confidence\": \"High\", \"found_upc\": true}\n",
      "Receiving update from node: 'tools'\n",
      "[ToolMessage(content='{\"success\": true, \"upc\": \"8400596007\", \"description\": \"hot fries\", \"confidence\": \"High\", \"message\": \"Extracted UPC: 8400596007, Description: hot fries\"}', name='upc_extraction', id='a2945262-7d68-4968-8715-6ba504127136', tool_call_id='call_sCmCmabcv0SVHeM2CZwMpJJm')]\n",
      "\n",
      "\n",
      "\n",
      "Receiving update from node: 'assistant'\n",
      "[AIMessage(content='', additional_kwargs={'tool_calls': [{'id': 'call_G9XhuRtAhCerTEKfayj0ic7c', 'function': {'arguments': '{\"upc\":\"8400596007\"}', 'name': 'upc_validator'}, 'type': 'function'}], 'refusal': None}, response_metadata={'token_usage': {'completion_tokens': 19, 'prompt_tokens': 1575, 'total_tokens': 1594, 'completion_tokens_details': {'accepted_prediction_tokens': 0, 'audio_tokens': 0, 'reasoning_tokens': 0, 'rejected_prediction_tokens': 0}, 'prompt_tokens_details': {'audio_tokens': 0, 'cached_tokens': 1408}}, 'model_name': 'gpt-4.1-2025-04-14', 'system_fingerprint': 'fp_6608a0a96a', 'finish_reason': 'tool_calls', 'logprobs': None}, id='run--36e2b40d-1bc9-4787-9461-5a6a2cb059cf-0', tool_calls=[{'name': 'upc_validator', 'args': {'upc': '8400596007'}, 'id': 'call_G9XhuRtAhCerTEKfayj0ic7c', 'type': 'tool_call'}], usage_metadata={'input_tokens': 1575, 'output_tokens': 19, 'total_tokens': 1594, 'input_token_details': {'audio': 0, 'cache_read': 1408}, 'output_token_details': {'audio': 0, 'reasoning': 0}})]\n",
      "\n",
      "\n",
      "\n",
      "Receiving update from node: 'tools'\n",
      "[ToolMessage(content='Invalid UPC: 8400596007. UPC codes must be either 8 digits (UPC-E) or 12 digits (UPC-A). Got 10 digits.', name='upc_validator', id='5455377f-eb7b-4e04-870e-a081fb5f5532', tool_call_id='call_G9XhuRtAhCerTEKfayj0ic7c')]\n",
      "\n",
      "\n",
      "\n",
      "Receiving update from node: 'assistant'\n",
      "[AIMessage(content='', additional_kwargs={'tool_calls': [{'id': 'call_vXugZmYZIVTsZrDiXW2zL2oC', 'function': {'arguments': '{\"upc\":\"8400596007\"}', 'name': 'upc_check_digit_calculator'}, 'type': 'function'}], 'refusal': None}, response_metadata={'token_usage': {'completion_tokens': 22, 'prompt_tokens': 1637, 'total_tokens': 1659, 'completion_tokens_details': {'accepted_prediction_tokens': 0, 'audio_tokens': 0, 'reasoning_tokens': 0, 'rejected_prediction_tokens': 0}, 'prompt_tokens_details': {'audio_tokens': 0, 'cached_tokens': 1536}}, 'model_name': 'gpt-4.1-2025-04-14', 'system_fingerprint': 'fp_6608a0a96a', 'finish_reason': 'tool_calls', 'logprobs': None}, id='run--f589c9aa-90b9-45c7-8148-846429e2fb6a-0', tool_calls=[{'name': 'upc_check_digit_calculator', 'args': {'upc': '8400596007'}, 'id': 'call_vXugZmYZIVTsZrDiXW2zL2oC', 'type': 'tool_call'}], usage_metadata={'input_tokens': 1637, 'output_tokens': 22, 'total_tokens': 1659, 'input_token_details': {'audio': 0, 'cache_read': 1536}, 'output_token_details': {'audio': 0, 'reasoning': 0}})]\n",
      "\n",
      "\n",
      "\n",
      "Receiving update from node: 'tools'\n",
      "[ToolMessage(content='Input UPC: 8400596007\\nPadded to 11 digits: 08400596007\\nComplete UPC with check digit: 084005960071\\nCalculated check digit: 1', name='upc_check_digit_calculator', id='4d5bec5d-ab79-42b6-9499-dc55cfcb2b89', tool_call_id='call_vXugZmYZIVTsZrDiXW2zL2oC')]\n",
      "\n",
      "\n",
      "\n",
      "Receiving update from node: 'assistant'\n",
      "[AIMessage(content='', additional_kwargs={'tool_calls': [{'id': 'call_nkNNUUx2QjBQjXZWJzAuiV0J', 'function': {'arguments': '{\"upc\":\"084005960071\"}', 'name': 'upc_validator'}, 'type': 'function'}], 'refusal': None}, response_metadata={'token_usage': {'completion_tokens': 19, 'prompt_tokens': 1711, 'total_tokens': 1730, 'completion_tokens_details': {'accepted_prediction_tokens': 0, 'audio_tokens': 0, 'reasoning_tokens': 0, 'rejected_prediction_tokens': 0}, 'prompt_tokens_details': {'audio_tokens': 0, 'cached_tokens': 1536}}, 'model_name': 'gpt-4.1-2025-04-14', 'system_fingerprint': 'fp_6608a0a96a', 'finish_reason': 'tool_calls', 'logprobs': None}, id='run--bd633a70-c48f-449e-89c1-2424b7103425-0', tool_calls=[{'name': 'upc_validator', 'args': {'upc': '084005960071'}, 'id': 'call_nkNNUUx2QjBQjXZWJzAuiV0J', 'type': 'tool_call'}], usage_metadata={'input_tokens': 1711, 'output_tokens': 19, 'total_tokens': 1730, 'input_token_details': {'audio': 0, 'cache_read': 1536}, 'output_token_details': {'audio': 0, 'reasoning': 0}})]\n",
      "\n",
      "\n",
      "\n",
      "Receiving update from node: 'tools'\n",
      "[ToolMessage(content='Valid UPC-A: 084005960071. Check digit validation passed.', name='upc_validator', id='b1fd1a8d-6e00-435c-bdb2-bf9f90f91127', tool_call_id='call_nkNNUUx2QjBQjXZWJzAuiV0J')]\n",
      "\n",
      "\n",
      "\n",
      "Receiving update from node: 'assistant'\n",
      "[AIMessage(content='', additional_kwargs={'tool_calls': [{'id': 'call_aAPIT4Q9zAnP1uJpnhMHM2aT', 'function': {'arguments': '{\"upc\": \"084005960071\"}', 'name': 'openfoodfacts_lookup'}, 'type': 'function'}, {'id': 'call_G2ROidh0nLZZxzYN8bfQ8P10', 'function': {'arguments': '{\"upc\": \"084005960071\"}', 'name': 'usda_fdc_search'}, 'type': 'function'}], 'refusal': None}, response_metadata={'token_usage': {'completion_tokens': 57, 'prompt_tokens': 1754, 'total_tokens': 1811, 'completion_tokens_details': {'accepted_prediction_tokens': 0, 'audio_tokens': 0, 'reasoning_tokens': 0, 'rejected_prediction_tokens': 0}, 'prompt_tokens_details': {'audio_tokens': 0, 'cached_tokens': 1664}}, 'model_name': 'gpt-4.1-2025-04-14', 'system_fingerprint': 'fp_6608a0a96a', 'finish_reason': 'tool_calls', 'logprobs': None}, id='run--36f4b91a-0d58-4c10-87c6-409004efce35-0', tool_calls=[{'name': 'openfoodfacts_lookup', 'args': {'upc': '084005960071'}, 'id': 'call_aAPIT4Q9zAnP1uJpnhMHM2aT', 'type': 'tool_call'}, {'name': 'usda_fdc_search', 'args': {'upc': '084005960071'}, 'id': 'call_G2ROidh0nLZZxzYN8bfQ8P10', 'type': 'tool_call'}], usage_metadata={'input_tokens': 1754, 'output_tokens': 57, 'total_tokens': 1811, 'input_token_details': {'audio': 0, 'cache_read': 1664}, 'output_token_details': {'audio': 0, 'reasoning': 0}})]\n",
      "\n",
      "\n",
      "\n",
      "Receiving update from node: 'tools'\n",
      "[ToolMessage(content='Error accessing OpenFoodFacts API for UPC 084005960071: 404 Client Error: Not Found for url: https://world.openfoodfacts.org/api/v2/product/084005960071.json', name='openfoodfacts_lookup', id='8ee546d9-90f3-4fb1-8f0c-7da1367af5cb', tool_call_id='call_aAPIT4Q9zAnP1uJpnhMHM2aT'), ToolMessage(content=\"No products found for UPC 084005960071 in the USDA Food Data Central database. The UPC may be valid but the product is not cataloged in USDA's database.\", name='usda_fdc_search', id='7d929a92-799c-49dc-a4cf-4b5d41b80d58', tool_call_id='call_G2ROidh0nLZZxzYN8bfQ8P10')]\n",
      "\n",
      "\n",
      "\n",
      "Receiving update from node: 'assistant'\n",
      "[AIMessage(content='', additional_kwargs={'tool_calls': [{'id': 'call_MdFZfoOoFaYUcqmS88vd5Eeq', 'function': {'arguments': '{\"query\":\"084005960071 hot fries\"}', 'name': 'tavily_search_results_json'}, 'type': 'function'}], 'refusal': None}, response_metadata={'token_usage': {'completion_tokens': 23, 'prompt_tokens': 1901, 'total_tokens': 1924, 'completion_tokens_details': {'accepted_prediction_tokens': 0, 'audio_tokens': 0, 'reasoning_tokens': 0, 'rejected_prediction_tokens': 0}, 'prompt_tokens_details': {'audio_tokens': 0, 'cached_tokens': 1792}}, 'model_name': 'gpt-4.1-2025-04-14', 'system_fingerprint': 'fp_6608a0a96a', 'finish_reason': 'tool_calls', 'logprobs': None}, id='run--971b3932-66b9-46fc-9bd6-7282c7cc918c-0', tool_calls=[{'name': 'tavily_search_results_json', 'args': {'query': '084005960071 hot fries'}, 'id': 'call_MdFZfoOoFaYUcqmS88vd5Eeq', 'type': 'tool_call'}], usage_metadata={'input_tokens': 1901, 'output_tokens': 23, 'total_tokens': 1924, 'input_token_details': {'audio': 0, 'cache_read': 1792}, 'output_token_details': {'audio': 0, 'reasoning': 0}})]\n",
      "\n",
      "\n",
      "\n",
      "Receiving update from node: 'tools'\n",
      "[ToolMessage(content='[{\"title\": \"UPC 028400596008 - Chester\\'s Flamin\\' Hot Fries, 5.5 Oz.\", \"url\": \"https://www.upcitemdb.com/upc/28400596008\", \"content\": \"#### Similar UPC Numbers\\\\n\\\\nEAN-13 Barcode of UPC 028400000017\\\\n\\\\nWAGNER 284013 Renuvo Deck Tool\\\\n\\\\nEAN-13 Barcode of UPC 028400000031\\\\n\\\\nSealy Posturepedic Grant Park Plush Euro Pillowtop Twin XL Mattress Set\\\\n\\\\nEAN-13 Barcode of UPC 028400000048\\\\n\\\\nWatts 284043 Lead Free Thermostatic Mixing Valve, 0.375 in.\\\\n\\\\nEAN-13 Barcode of UPC 028400000055\\\\n\\\\nWomen\\'s Ecco Sense Toggle Sneaker\\\\n\\\\nEAN-13 Barcode of UPC 028400000062\\\\n\\\\nStanley N213-421 Bright Brass Chest Handle - 2 Pack\\\\n\\\\nEAN-13 Barcode of UPC 028400000079 [...] Disclaimer: The information is all provided as-is, with no guarantees on availability or accuracy of the results. We\\'ll certainly do our best to make the service highly-available though, and the results accurate.\\\\n  \\\\n  \\\\nCopyright @ 2025 upcitemdb.com. All rights reserved. [...] # upcitemdb\\\\n\\\\n## UPC 028400596008\\\\n\\\\nUPC 028400596008 is associated with Chester\\'s Flamin\\' Hot Fries, 5.5 Oz.\\\\n\\\\nUPC 028400596008\\\\n\\\\nUPC 028400596008 has following Product Name Variations:\\\\n\\\\n#### More Info\\\\n\\\\n|  |  |\\\\n| --- | --- |\\\\n| UPC-A: | 0 28400 59600 8 |\\\\n| EAN-13: | 0 028400 596008 |\\\\n| Country of Registration: | United States |\\\\n| Brand: | Chester\\'s |\\\\n| Model #: | 0002840059600 |\\\\n| Size: | One 5.5 oz bag |\\\\n| Color: | Calico |\\\\n| Weight: | 1.00lb |\\\\n| Last Scanned: | 2022-09-12 11:56:40 |\", \"score\": 0.55767727}, {\"title\": \"Chester\\'s Flamin\\' Hot Fries Flavored Corn & Potato Snacks Bag ...\", \"url\": \"https://www.amazon.com/CHESTERS-Flamin-Flavored-Potato-Snacks/dp/B01KM6MTUK\", \"content\": \"Amazon.com: Chester\\'s Flamin\\' Hot Fries Flavored Corn & Potato Snacks Bag, 5.25 Oz\\\\n\\\\n===============\\\\n\\\\nImage 1Image 2 Shortcuts menu \\\\nSkip to\\\\n-------\\\\n\\\\n   Main content\\\\n   About this item\\\\n   About this item\\\\n   About this item\\\\n   Buying options\\\\n   Compare with similar items\\\\n   Videos\\\\n   Reviews\\\\n\\\\n  \\\\n\\\\nKeyboard shortcuts\\\\n------------------\\\\n\\\\n   Search opt+/\\\\n   Cart shift+opt+C\\\\n   Home shift+opt+H\\\\n   Orders shift+opt+O\\\\n   Add to cart shift+opt+K  \\\\n   Open/close shortcuts menu shift+opt+Z [...] About this item)\\\\n\\\\nBrand Chesters\\\\nFlavor Flamin\\' Hot\\\\nUnit Count 5.25 Ounce\\\\nNumber of Items 1\\\\nType Potato Chip\\\\n\\\\n  \\\\n\\\\nAbout this item\\\\n===============\\\\n\\\\n    5.25 oz bag of CHESTER\\'s Flamin\\' Hot Fries Flavored Corn & Potato Snacks \\\\n    Delicious flamin\\' hot flavor \\\\n    Crunchy and cheesy.Gluten free \\\\n    Great for sharing with family and friends \\\\n\\\\n›See more product details\\\\n\\\\nReport an issue with this product or seller [...] ##### LOVE\\\\n\\\\nNot every major grocery/pharmacy chain carries these, so the ones that do always sell out fast. It\\'s so great to be able to stock up and buy these online :) I\\'ve had several bags from Amazon now and they\\'re always fresh\\\\n\\\\nMore)Hide)\\\\n\\\\n   Image 52: Customer Image\\\\n\\\\nThank you for your feedback\\\\n\\\\nClose\\\\n\\\\nSorry, there was an error\\\\n\\\\nClose\\\\n\\\\nSorry we couldn\\'t load the review\\\\n\\\\nTry again\\\\n\\\\n### Top reviews from the United States\\\\n\\\\n#### There was a problem filtering reviews. Please reload the page.\", \"score\": 0.37018043}, {\"title\": \"Chester\\'s Corn Snacks, Flamin\\' Hot Flavored, Fries - 5.25 Ounce\", \"url\": \"https://go-upc.com/search?q=028400705691\", \"content\": \"2.0 2.0 %: Iron. Photo of Chester\\'s Corn Snacks, Flamin\\' Hot Flavored, Fries - 5.25 Ounce. Barcode. 028400705691 Barcode. Enter any barcode number: Go. Find\", \"score\": 0.24921462}, {\"title\": \"CHESTER\\'S® FLAMIN\\' HOT® Fries Flavored Corn Snacks | FritoLay\", \"url\": \"https://www.fritolay.com/products/chesters-flamin-hot-fries-flavored-corn-snacks\", \"content\": \"# FritoLay logo\\\\n\\\\nFritoLay logo\\\\n\\\\nSearch\\\\nCHESTER\\'S® FLAMIN\\' HOT® Fries Flavored Corn Snacks\\\\n\\\\n## CHESTER\\'S® FLAMIN\\' HOT® Fries Flavored Corn Snacks\\\\n\\\\nWhen CHESTER CHEETAH puts his name on a snack, you can count on a bold and cheesy flavor like you’ve never tasted. CHESTER’S® snacks are made with a special blend of real cheese seasoning to give each bite the perfect pop and zing.\\\\n\\\\n### Nutrition Facts [...] Frito-Lay is an Official Sponsor of the NFL [...] When CHESTER CHEETAH puts his name on a snack, you can count on a bold and cheesy flavor like you’ve never tasted. CHESTER’S® snacks are made with a special blend of real cheese seasoning to give each bite the perfect pop and zing.\\\\n\\\\n### Nutrition Facts\\\\n\\\\n## Related Products\\\\n\\\\n### CHESTER\\'S® Butter Flavored Puffcorn Snacks\\\\n\\\\n### CHESTER\\'S® Cheese Flavored Puffcorn Snacks\\\\n\\\\n### CHESTER\\'S® FLAMIN\\' HOT® Flavored Puffcorn Snacks\\\\n\\\\nFritoLay logo\\\\n\\\\n©2025\\\\nFrito-Lay North America, Inc. a Division of PepsiCo\", \"score\": 0.16178352}, {\"title\": \"Chester\\'s, Fries, Party Size, Flamin\\' Hot Flavored, Corn Snacks\", \"url\": \"https://smartlabel.pepsico.info/028400710176-0002-en-US/index.html\", \"content\": \"#### \\\\n\\\\n#### \\\\n\\\\n#### \\\\n\\\\n#### \\\\n\\\\n#### Smartlabel Logo\\\\n\\\\nSmartlabel Logo\\\\nSmartlabel Logo\\\\n\\\\n# Chester\\'s, Fries, Party Size, Flamin\\' Hot Flavored, Corn Snacks\\\\n\\\\nproduct primary image\\\\nproduct badge image\\\\nHome Icon\\\\nfacebook Icon\\\\npinterest Icon\\\\nTwitter Icon\\\\nsocial media Icon\\\\nsocial media Icon\\\\nMenu Icon\\\\n\\\\n#### Leaving SmartLabel\\\\n\\\\nYou are about to leave SmartLabel and go to a branded site. Would you like to continue?\", \"score\": 0.10399425}]', name='tavily_search_results_json', id='a675fd1e-68d5-4b70-9a2e-7d99fe44aef9', tool_call_id='call_MdFZfoOoFaYUcqmS88vd5Eeq', artifact={'query': '084005960071 hot fries', 'follow_up_questions': None, 'answer': None, 'images': [], 'results': [{'url': 'https://www.upcitemdb.com/upc/28400596008', 'title': \"UPC 028400596008 - Chester's Flamin' Hot Fries, 5.5 Oz.\", 'content': \"#### Similar UPC Numbers\\n\\nEAN-13 Barcode of UPC 028400000017\\n\\nWAGNER 284013 Renuvo Deck Tool\\n\\nEAN-13 Barcode of UPC 028400000031\\n\\nSealy Posturepedic Grant Park Plush Euro Pillowtop Twin XL Mattress Set\\n\\nEAN-13 Barcode of UPC 028400000048\\n\\nWatts 284043 Lead Free Thermostatic Mixing Valve, 0.375 in.\\n\\nEAN-13 Barcode of UPC 028400000055\\n\\nWomen's Ecco Sense Toggle Sneaker\\n\\nEAN-13 Barcode of UPC 028400000062\\n\\nStanley N213-421 Bright Brass Chest Handle - 2 Pack\\n\\nEAN-13 Barcode of UPC 028400000079 [...] Disclaimer: The information is all provided as-is, with no guarantees on availability or accuracy of the results. We'll certainly do our best to make the service highly-available though, and the results accurate.\\n  \\n  \\nCopyright @ 2025 upcitemdb.com. All rights reserved. [...] # upcitemdb\\n\\n## UPC 028400596008\\n\\nUPC 028400596008 is associated with Chester's Flamin' Hot Fries, 5.5 Oz.\\n\\nUPC 028400596008\\n\\nUPC 028400596008 has following Product Name Variations:\\n\\n#### More Info\\n\\n|  |  |\\n| --- | --- |\\n| UPC-A: | 0 28400 59600 8 |\\n| EAN-13: | 0 028400 596008 |\\n| Country of Registration: | United States |\\n| Brand: | Chester's |\\n| Model #: | 0002840059600 |\\n| Size: | One 5.5 oz bag |\\n| Color: | Calico |\\n| Weight: | 1.00lb |\\n| Last Scanned: | 2022-09-12 11:56:40 |\", 'score': 0.55767727, 'raw_content': None}, {'url': 'https://www.amazon.com/CHESTERS-Flamin-Flavored-Potato-Snacks/dp/B01KM6MTUK', 'title': \"Chester's Flamin' Hot Fries Flavored Corn & Potato Snacks Bag ...\", 'content': \"Amazon.com: Chester's Flamin' Hot Fries Flavored Corn & Potato Snacks Bag, 5.25 Oz\\n\\n===============\\n\\nImage 1Image 2 Shortcuts menu \\nSkip to\\n-------\\n\\n   Main content\\n   About this item\\n   About this item\\n   About this item\\n   Buying options\\n   Compare with similar items\\n   Videos\\n   Reviews\\n\\n  \\n\\nKeyboard shortcuts\\n------------------\\n\\n   Search opt+/\\n   Cart shift+opt+C\\n   Home shift+opt+H\\n   Orders shift+opt+O\\n   Add to cart shift+opt+K  \\n   Open/close shortcuts menu shift+opt+Z [...] About this item)\\n\\nBrand Chesters\\nFlavor Flamin' Hot\\nUnit Count 5.25 Ounce\\nNumber of Items 1\\nType Potato Chip\\n\\n  \\n\\nAbout this item\\n===============\\n\\n    5.25 oz bag of CHESTER's Flamin' Hot Fries Flavored Corn & Potato Snacks \\n    Delicious flamin' hot flavor \\n    Crunchy and cheesy.Gluten free \\n    Great for sharing with family and friends \\n\\n›See more product details\\n\\nReport an issue with this product or seller [...] ##### LOVE\\n\\nNot every major grocery/pharmacy chain carries these, so the ones that do always sell out fast. It's so great to be able to stock up and buy these online :) I've had several bags from Amazon now and they're always fresh\\n\\nMore)Hide)\\n\\n   Image 52: Customer Image\\n\\nThank you for your feedback\\n\\nClose\\n\\nSorry, there was an error\\n\\nClose\\n\\nSorry we couldn't load the review\\n\\nTry again\\n\\n### Top reviews from the United States\\n\\n#### There was a problem filtering reviews. Please reload the page.\", 'score': 0.37018043, 'raw_content': None}, {'url': 'https://go-upc.com/search?q=028400705691', 'title': \"Chester's Corn Snacks, Flamin' Hot Flavored, Fries - 5.25 Ounce\", 'content': \"2.0 2.0 %: Iron. Photo of Chester's Corn Snacks, Flamin' Hot Flavored, Fries - 5.25 Ounce. Barcode. 028400705691 Barcode. Enter any barcode number: Go. Find\", 'score': 0.24921462, 'raw_content': None}, {'url': 'https://www.fritolay.com/products/chesters-flamin-hot-fries-flavored-corn-snacks', 'title': \"CHESTER'S® FLAMIN' HOT® Fries Flavored Corn Snacks | FritoLay\", 'content': \"# FritoLay logo\\n\\nFritoLay logo\\n\\nSearch\\nCHESTER'S® FLAMIN' HOT® Fries Flavored Corn Snacks\\n\\n## CHESTER'S® FLAMIN' HOT® Fries Flavored Corn Snacks\\n\\nWhen CHESTER CHEETAH puts his name on a snack, you can count on a bold and cheesy flavor like you’ve never tasted. CHESTER’S® snacks are made with a special blend of real cheese seasoning to give each bite the perfect pop and zing.\\n\\n### Nutrition Facts [...] Frito-Lay is an Official Sponsor of the NFL [...] When CHESTER CHEETAH puts his name on a snack, you can count on a bold and cheesy flavor like you’ve never tasted. CHESTER’S® snacks are made with a special blend of real cheese seasoning to give each bite the perfect pop and zing.\\n\\n### Nutrition Facts\\n\\n## Related Products\\n\\n### CHESTER'S® Butter Flavored Puffcorn Snacks\\n\\n### CHESTER'S® Cheese Flavored Puffcorn Snacks\\n\\n### CHESTER'S® FLAMIN' HOT® Flavored Puffcorn Snacks\\n\\nFritoLay logo\\n\\n©2025\\nFrito-Lay North America, Inc. a Division of PepsiCo\", 'score': 0.16178352, 'raw_content': None}, {'url': 'https://smartlabel.pepsico.info/028400710176-0002-en-US/index.html', 'title': \"Chester's, Fries, Party Size, Flamin' Hot Flavored, Corn Snacks\", 'content': \"#### \\n\\n#### \\n\\n#### \\n\\n#### \\n\\n#### Smartlabel Logo\\n\\nSmartlabel Logo\\nSmartlabel Logo\\n\\n# Chester's, Fries, Party Size, Flamin' Hot Flavored, Corn Snacks\\n\\nproduct primary image\\nproduct badge image\\nHome Icon\\nfacebook Icon\\npinterest Icon\\nTwitter Icon\\nsocial media Icon\\nsocial media Icon\\nMenu Icon\\n\\n#### Leaving SmartLabel\\n\\nYou are about to leave SmartLabel and go to a branded site. Would you like to continue?\", 'score': 0.10399425, 'raw_content': None}], 'response_time': 3.35})]\n",
      "\n",
      "\n",
      "\n",
      "Receiving update from node: 'assistant'\n",
      "[AIMessage(content='Extraction confidence: High\\n\\n- Extracted UPC: 8400596007 (original, 10 digits)\\n- Corrected UPC (with check digit): 084005960071 (valid UPC-A)\\n- User description: \"hot fries\"\\n\\nValidation Process:\\n1. The original UPC was 10 digits, so I calculated and added the correct check digit to convert it to a valid 12-digit UPC-A: 084005960071.\\n2. Checked both OpenFoodFacts and USDA FoodData Central:\\n   - Not found in either database for this UPC.\\n\\nWeb Search Findings:\\n- The closest match (UPC 028400596008, very similar to yours) is Chester\\'s Flamin\\' Hot Fries, a popular corn & potato snack.\\n- Product details for Chester\\'s Flamin\\' Hot Fries:\\n  - Brand: Chester\\'s (owned by Frito-Lay)\\n  - Description: Flamin\\' Hot Fries, Flavored Corn & Potato Snacks\\n  - Common size: 5.25 oz or 5.5 oz bag\\n\\nDescription Comparison:\\n- 🔍 User description \"hot fries\" partially matches - found related terms in [product: Chester\\'s Flamin\\' Hot Fries, brand: Chester\\'s, category: snacks].\\n\\nNotes:\\n- It is possible your UPC is a variation or a misprint of the more common Chester\\'s Flamin\\' Hot Fries UPC (028400596008).\\n- If your package is labeled \"Chester\\'s Flamin\\' Hot Fries,\" then it\\'s very likely the same product.\\n\\nLet me know if you want more detailed nutrition facts or ingredients for Chester\\'s Flamin\\' Hot Fries! If your product packaging looks different or uses a different brand, please provide a photo or more details for further investigation.', additional_kwargs={'refusal': None}, response_metadata={'token_usage': {'completion_tokens': 352, 'prompt_tokens': 3471, 'total_tokens': 3823, 'completion_tokens_details': {'accepted_prediction_tokens': 0, 'audio_tokens': 0, 'reasoning_tokens': 0, 'rejected_prediction_tokens': 0}, 'prompt_tokens_details': {'audio_tokens': 0, 'cached_tokens': 1920}}, 'model_name': 'gpt-4.1-2025-04-14', 'system_fingerprint': 'fp_6608a0a96a', 'finish_reason': 'stop', 'logprobs': None}, id='run--e63e68ae-9a96-468b-8611-8088f2a83d0d-0', usage_metadata={'input_tokens': 3471, 'output_tokens': 352, 'total_tokens': 3823, 'input_token_details': {'audio': 0, 'cache_read': 1920}, 'output_token_details': {'audio': 0, 'reasoning': 0}})]\n",
      "\n",
      "\n",
      "\n"
     ]
    }
   ],
   "source": [
    "inputs = {\"messages\" : [HumanMessage(content=\"I have information about a product with the upc code 8400596007 and the description hot fries. What is this?\")]}\n",
    "\n",
    "async for chunk in graph.astream(inputs, stream_mode=\"updates\"):\n",
    "    for node, values in chunk.items():\n",
    "        print(f\"Receiving update from node: '{node}'\")\n",
    "        print(values[\"messages\"])\n",
    "        print(\"\\n\\n\")"
   ]
  },
  {
   "cell_type": "code",
   "execution_count": 17,
   "id": "fb0240cb",
   "metadata": {},
   "outputs": [
    {
     "name": "stdout",
     "output_type": "stream",
     "text": [
      "Extraction confidence: High  \n",
      "Extracted UPC: 028400596008  \n",
      "Extracted description: \"hot fries\"\n",
      "\n",
      "Validation:\n",
      "- UPC 028400596008 is valid.\n",
      "\n",
      "Database Results:\n",
      "- OpenFoodFacts: Product is \"Fries Corn & Potato Snacks, Flamin' Hot\" by Chester's.  \n",
      "- USDA Food Data Central: Product is \"CORN & POTATO SNACKS, FLAMIN' HOT\" by CHESTER'S (Frito-Lay).\n",
      "\n",
      "Description Comparison:\n",
      "✅ User description 'hot fries' matches the product data (commonly known as Chester's Flamin' Hot Fries).\n",
      "\n",
      "Supplementary Web Information:\n",
      "- Multiple retail and product sites (including Frito-Lay and upcitemdb) confirm this is Chester's Flamin' Hot Fries, a spicy corn and potato snack shaped like fries.\n",
      "\n",
      "Summary:\n",
      "- Product: Chester's Flamin' Hot Fries (UPC 028400596008)\n",
      "- Brand: Chester's (Frito-Lay)\n",
      "- Description: Spicy, crunchy corn and potato snacks shaped like fries (\"Hot Fries\")\n",
      "- Ingredients include: Enriched corn meal, vegetable oil, dried potatoes, cheddar cheese, spices, artificial color, and more.\n",
      "\n",
      "For more details:\n",
      "- [OpenFoodFacts entry](https://world.openfoodfacts.org/product/028400596008)\n",
      "- [Frito-Lay’s product page](https://www.fritolay.com/products/chesters-flamin-hot-fries-flavored-corn-snacks)\n",
      "\n",
      "If you need nutrition facts, ingredient breakdown, or have further questions, let me know!\n"
     ]
    }
   ],
   "source": [
    "print(result[\"messages\"][-1].content)"
   ]
  },
  {
   "cell_type": "code",
   "execution_count": null,
   "id": "b3f80ada",
   "metadata": {},
   "outputs": [],
   "source": [
    "prompt = \"\"\"\n",
    "  Waht product is upc 074806103173 and return the ingredients.\n",
    "\"\"\""
   ]
  },
  {
   "cell_type": "code",
   "execution_count": 9,
   "id": "5a72bf13",
   "metadata": {},
   "outputs": [],
   "source": [
    "\n",
    "messages = [HumanMessage(content=prompt)]\n",
    "result = graph.invoke({\"messages\": messages})[\"messages\"][-1].content"
   ]
  },
  {
   "cell_type": "code",
   "execution_count": 10,
   "id": "55913b71",
   "metadata": {},
   "outputs": [
    {
     "data": {
      "text/plain": [
       "'The product associated with UPC 074806103173 is not explicitly listed in the search results. However, based on the search data from various barcode lookup tools and databases, I can suggest that this UPC code can be used to identify specific product details. Would you like me to help you find more detailed information about this UPC or guide you on how to look it up?'"
      ]
     },
     "execution_count": 10,
     "metadata": {},
     "output_type": "execute_result"
    }
   ],
   "source": [
    "result"
   ]
  },
  {
   "cell_type": "code",
   "execution_count": null,
   "id": "5bf9c280",
   "metadata": {},
   "outputs": [],
   "source": []
  }
 ],
 "metadata": {
  "kernelspec": {
   "display_name": ".venv",
   "language": "python",
   "name": "python3"
  },
  "language_info": {
   "codemirror_mode": {
    "name": "ipython",
    "version": 3
   },
   "file_extension": ".py",
   "mimetype": "text/x-python",
   "name": "python",
   "nbconvert_exporter": "python",
   "pygments_lexer": "ipython3",
   "version": "3.13.5"
  }
 },
 "nbformat": 4,
 "nbformat_minor": 5
}
